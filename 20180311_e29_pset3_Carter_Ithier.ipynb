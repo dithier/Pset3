{
 "cells": [
  {
   "cell_type": "markdown",
   "metadata": {},
   "source": [
    "### Your Name Here: Carter Ithier\n",
    "### Your TF Name: Joe\n",
    "### Graduate or Undergraduate Credit: Graduate"
   ]
  },
  {
   "cell_type": "markdown",
   "metadata": {},
   "source": [
    "## This is e29 PSET3\n",
    "##### DUE: March 28 2018\n",
    "##### Harvard University DCE CSCI-E29\n",
    "##### Instructor: Nenad Svrzikapa\n",
    "##### Staff: Joe Palin, Kaleigh Douglas, Lena Hajjar, Phil Lodine, Alan Xie\n",
    "### Instructions:\n",
    "\n",
    "PSET3 is designed to solidify your Pandas skills.  Before you get started please review and understand our Academic Integrity policy.  We understand that for some of your work you may have to use external sorces.  Please cite and be a good acedemic citizen. Remember that All homework assignments, quizzes and exams must be your independent work!\n",
    "\n",
    "Undergraduate Credit students may solve any 4 problems.\n",
    "\n",
    "Tips from staff:  \n",
    "\n",
    "1. Don't wait until the last day, our Psets require time and learning\n",
    "2. Piazza is there for you, we are a team and our goal is not to test you, we want to teach you! Please ask questions!\n",
    "3. Program a bit every day.  You can't learn these concepts by reading 2 chapters and attempting to solve the problems. Read a little, try the code, change the code,break the code, understand, learn."
   ]
  },
  {
   "cell_type": "markdown",
   "metadata": {},
   "source": [
    "## Problem 1: \n",
    "### Created by: Lena\n",
    "### Undergraduate 2.5 points Graduate 2 points"
   ]
  },
  {
   "cell_type": "markdown",
   "metadata": {},
   "source": [
    "# More Fun at Wal-mart\n",
    "\n",
    "## Problem by Lena\n",
    "\n",
    "I know what exactly what you're thinking.<br>\n",
    "\"That Wal-mart problem set was just SO riveting.\"<br>\n",
    "Well, you're in luck, because we're using the Wal-mart dataset again! <br>\n",
    "We're going to make a few functions to find out information about Wal-marts and Supercenters in each state. "
   ]
  },
  {
   "cell_type": "markdown",
   "metadata": {},
   "source": [
    "### Information about the dataset (literally the exact same information as from PSET2)\n",
    "You can find the data in the file walmart.csv (source: https://github.com/plotly/datasets) The file has over 2000 records of Wal-Marts and Supercenters that have opened in the US since 1962. The dataset has the following columns:\n",
    "<ul>\n",
    "<li><b>storenum:</b> The store number</li>\n",
    "<li><b>OPENDATE:</b> The opening date of the store in MM/DD/YYYY format</li>\n",
    "<li><b>date_super:</b> The date that the store was converted into a supercenter in MM/DD/YYYY format. There may be empty values if the store was not converted into a supercenter</li>\n",
    "<li><b>conversion:</b> The number of conversions from Wal-Mart to Supercenter that the store has gone through. </li>\n",
    "<li><b>STREETADDR:</b> The store's street address</li>\n",
    "<li><b>STRCITY:</b> The store's city</li>\n",
    "<li><b>STRSTATE:</b> The store's state</li>\n",
    "<li><b>ZIPCODE:</b> The store's zipcode</li>\n",
    "<li><b>type_store:</b> The type of store. Possible values are Wal-mart and SuperCenter</li>\n",
    "<li><b>LAT:</b> The store's latitude</li>\n",
    "<li><b>LON:</b> The store's longitude</li>\n",
    "<li><b>MONTH:</b> The month the store opened</li>\n",
    "<li><b>DAY:</b> The day the store opened</li>\n",
    "<li><b>YEAR:</b> The year the store opened</li>\n",
    "</ul>\n"
   ]
  },
  {
   "cell_type": "markdown",
   "metadata": {},
   "source": [
    "### Part 1: Getting the data\n",
    "You should have downloaded walmart.csv from the assignment (or even the last assignment). In the next cell, load the csv into a dataframe. "
   ]
  },
  {
   "cell_type": "code",
   "execution_count": 53,
   "metadata": {
    "collapsed": true
   },
   "outputs": [],
   "source": [
    "import numpy as np\n",
    "import pandas as pd\n",
    "from pandas import pivot_table\n",
    "### Part 2: Exploring the dataimport pandas as pd\n",
    "\n",
    "# load walmart.csv into a dataframe. Hint: use the read_csv function\n",
    "\n",
    "walmart = pd.read_csv(\"walmart.csv\")"
   ]
  },
  {
   "cell_type": "markdown",
   "metadata": {},
   "source": [
    "In PSET2, we did some exploration of the dataset. Print first few rows using the .head() function, just so we can get a refresher of the data looks like."
   ]
  },
  {
   "cell_type": "code",
   "execution_count": 3,
   "metadata": {},
   "outputs": [
    {
     "data": {
      "text/html": [
       "<div>\n",
       "<style>\n",
       "    .dataframe thead tr:only-child th {\n",
       "        text-align: right;\n",
       "    }\n",
       "\n",
       "    .dataframe thead th {\n",
       "        text-align: left;\n",
       "    }\n",
       "\n",
       "    .dataframe tbody tr th {\n",
       "        vertical-align: top;\n",
       "    }\n",
       "</style>\n",
       "<table border=\"1\" class=\"dataframe\">\n",
       "  <thead>\n",
       "    <tr style=\"text-align: right;\">\n",
       "      <th></th>\n",
       "      <th>storenum</th>\n",
       "      <th>OPENDATE</th>\n",
       "      <th>date_super</th>\n",
       "      <th>conversion</th>\n",
       "      <th>STREETADDR</th>\n",
       "      <th>STRCITY</th>\n",
       "      <th>STRSTATE</th>\n",
       "      <th>ZIPCODE</th>\n",
       "      <th>type_store</th>\n",
       "      <th>LAT</th>\n",
       "      <th>LON</th>\n",
       "      <th>MONTH</th>\n",
       "      <th>DAY</th>\n",
       "      <th>YEAR</th>\n",
       "    </tr>\n",
       "  </thead>\n",
       "  <tbody>\n",
       "    <tr>\n",
       "      <th>0</th>\n",
       "      <td>1</td>\n",
       "      <td>7/1/62</td>\n",
       "      <td>3/1/97</td>\n",
       "      <td>1.0</td>\n",
       "      <td>2110 WEST WALNUT</td>\n",
       "      <td>Rogers</td>\n",
       "      <td>AR</td>\n",
       "      <td>72756</td>\n",
       "      <td>Supercenter</td>\n",
       "      <td>36.342235</td>\n",
       "      <td>-94.07141</td>\n",
       "      <td>7</td>\n",
       "      <td>1</td>\n",
       "      <td>1962</td>\n",
       "    </tr>\n",
       "    <tr>\n",
       "      <th>1</th>\n",
       "      <td>2</td>\n",
       "      <td>8/1/64</td>\n",
       "      <td>3/1/96</td>\n",
       "      <td>1.0</td>\n",
       "      <td>1417 HWY 62/65 N</td>\n",
       "      <td>Harrison</td>\n",
       "      <td>AR</td>\n",
       "      <td>72601</td>\n",
       "      <td>Supercenter</td>\n",
       "      <td>36.236984</td>\n",
       "      <td>-93.09345</td>\n",
       "      <td>8</td>\n",
       "      <td>1</td>\n",
       "      <td>1964</td>\n",
       "    </tr>\n",
       "    <tr>\n",
       "      <th>2</th>\n",
       "      <td>4</td>\n",
       "      <td>8/1/65</td>\n",
       "      <td>3/1/02</td>\n",
       "      <td>1.0</td>\n",
       "      <td>2901 HWY 412 EAST</td>\n",
       "      <td>Siloam Springs</td>\n",
       "      <td>AR</td>\n",
       "      <td>72761</td>\n",
       "      <td>Supercenter</td>\n",
       "      <td>36.179905</td>\n",
       "      <td>-94.50208</td>\n",
       "      <td>8</td>\n",
       "      <td>1</td>\n",
       "      <td>1965</td>\n",
       "    </tr>\n",
       "    <tr>\n",
       "      <th>3</th>\n",
       "      <td>8</td>\n",
       "      <td>10/1/67</td>\n",
       "      <td>3/1/93</td>\n",
       "      <td>1.0</td>\n",
       "      <td>1621 NORTH BUSINESS 9</td>\n",
       "      <td>Morrilton</td>\n",
       "      <td>AR</td>\n",
       "      <td>72110</td>\n",
       "      <td>Supercenter</td>\n",
       "      <td>35.156491</td>\n",
       "      <td>-92.75858</td>\n",
       "      <td>10</td>\n",
       "      <td>1</td>\n",
       "      <td>1967</td>\n",
       "    </tr>\n",
       "    <tr>\n",
       "      <th>4</th>\n",
       "      <td>7</td>\n",
       "      <td>10/1/67</td>\n",
       "      <td>NaN</td>\n",
       "      <td>NaN</td>\n",
       "      <td>3801 CAMP ROBINSON RD.</td>\n",
       "      <td>North Little Rock</td>\n",
       "      <td>AR</td>\n",
       "      <td>72118</td>\n",
       "      <td>Wal-Mart</td>\n",
       "      <td>34.813269</td>\n",
       "      <td>-92.30229</td>\n",
       "      <td>10</td>\n",
       "      <td>1</td>\n",
       "      <td>1967</td>\n",
       "    </tr>\n",
       "  </tbody>\n",
       "</table>\n",
       "</div>"
      ],
      "text/plain": [
       "   storenum OPENDATE date_super  conversion              STREETADDR  \\\n",
       "0         1   7/1/62     3/1/97         1.0        2110 WEST WALNUT   \n",
       "1         2   8/1/64     3/1/96         1.0        1417 HWY 62/65 N   \n",
       "2         4   8/1/65     3/1/02         1.0       2901 HWY 412 EAST   \n",
       "3         8  10/1/67     3/1/93         1.0   1621 NORTH BUSINESS 9   \n",
       "4         7  10/1/67        NaN         NaN  3801 CAMP ROBINSON RD.   \n",
       "\n",
       "             STRCITY STRSTATE  ZIPCODE   type_store        LAT       LON  \\\n",
       "0             Rogers       AR    72756  Supercenter  36.342235 -94.07141   \n",
       "1           Harrison       AR    72601  Supercenter  36.236984 -93.09345   \n",
       "2     Siloam Springs       AR    72761  Supercenter  36.179905 -94.50208   \n",
       "3          Morrilton       AR    72110  Supercenter  35.156491 -92.75858   \n",
       "4  North Little Rock       AR    72118     Wal-Mart  34.813269 -92.30229   \n",
       "\n",
       "   MONTH  DAY  YEAR  \n",
       "0      7    1  1962  \n",
       "1      8    1  1964  \n",
       "2      8    1  1965  \n",
       "3     10    1  1967  \n",
       "4     10    1  1967  "
      ]
     },
     "execution_count": 3,
     "metadata": {},
     "output_type": "execute_result"
    }
   ],
   "source": [
    "# print the first few rows HINT: Use the .head() function \n",
    "\n",
    "walmart.head()"
   ]
  },
  {
   "cell_type": "markdown",
   "metadata": {},
   "source": [
    "### Part 2: Finding information by state\n",
    "It's good to have information about store openings in each state. In the next cell, find all the stores that are in Arkansas. walmart.STRSTATE == \"AR\" should be somewhere in your solution"
   ]
  },
  {
   "cell_type": "code",
   "execution_count": 4,
   "metadata": {},
   "outputs": [
    {
     "data": {
      "text/html": [
       "<div>\n",
       "<style>\n",
       "    .dataframe thead tr:only-child th {\n",
       "        text-align: right;\n",
       "    }\n",
       "\n",
       "    .dataframe thead th {\n",
       "        text-align: left;\n",
       "    }\n",
       "\n",
       "    .dataframe tbody tr th {\n",
       "        vertical-align: top;\n",
       "    }\n",
       "</style>\n",
       "<table border=\"1\" class=\"dataframe\">\n",
       "  <thead>\n",
       "    <tr style=\"text-align: right;\">\n",
       "      <th></th>\n",
       "      <th>storenum</th>\n",
       "      <th>OPENDATE</th>\n",
       "      <th>date_super</th>\n",
       "      <th>conversion</th>\n",
       "      <th>STREETADDR</th>\n",
       "      <th>STRCITY</th>\n",
       "      <th>STRSTATE</th>\n",
       "      <th>ZIPCODE</th>\n",
       "      <th>type_store</th>\n",
       "      <th>LAT</th>\n",
       "      <th>LON</th>\n",
       "      <th>MONTH</th>\n",
       "      <th>DAY</th>\n",
       "      <th>YEAR</th>\n",
       "    </tr>\n",
       "  </thead>\n",
       "  <tbody>\n",
       "    <tr>\n",
       "      <th>0</th>\n",
       "      <td>1</td>\n",
       "      <td>7/1/62</td>\n",
       "      <td>3/1/97</td>\n",
       "      <td>1.0</td>\n",
       "      <td>2110 WEST WALNUT</td>\n",
       "      <td>Rogers</td>\n",
       "      <td>AR</td>\n",
       "      <td>72756</td>\n",
       "      <td>Supercenter</td>\n",
       "      <td>36.342235</td>\n",
       "      <td>-94.07141</td>\n",
       "      <td>7</td>\n",
       "      <td>1</td>\n",
       "      <td>1962</td>\n",
       "    </tr>\n",
       "    <tr>\n",
       "      <th>1</th>\n",
       "      <td>2</td>\n",
       "      <td>8/1/64</td>\n",
       "      <td>3/1/96</td>\n",
       "      <td>1.0</td>\n",
       "      <td>1417 HWY 62/65 N</td>\n",
       "      <td>Harrison</td>\n",
       "      <td>AR</td>\n",
       "      <td>72601</td>\n",
       "      <td>Supercenter</td>\n",
       "      <td>36.236984</td>\n",
       "      <td>-93.09345</td>\n",
       "      <td>8</td>\n",
       "      <td>1</td>\n",
       "      <td>1964</td>\n",
       "    </tr>\n",
       "    <tr>\n",
       "      <th>2</th>\n",
       "      <td>4</td>\n",
       "      <td>8/1/65</td>\n",
       "      <td>3/1/02</td>\n",
       "      <td>1.0</td>\n",
       "      <td>2901 HWY 412 EAST</td>\n",
       "      <td>Siloam Springs</td>\n",
       "      <td>AR</td>\n",
       "      <td>72761</td>\n",
       "      <td>Supercenter</td>\n",
       "      <td>36.179905</td>\n",
       "      <td>-94.50208</td>\n",
       "      <td>8</td>\n",
       "      <td>1</td>\n",
       "      <td>1965</td>\n",
       "    </tr>\n",
       "    <tr>\n",
       "      <th>3</th>\n",
       "      <td>8</td>\n",
       "      <td>10/1/67</td>\n",
       "      <td>3/1/93</td>\n",
       "      <td>1.0</td>\n",
       "      <td>1621 NORTH BUSINESS 9</td>\n",
       "      <td>Morrilton</td>\n",
       "      <td>AR</td>\n",
       "      <td>72110</td>\n",
       "      <td>Supercenter</td>\n",
       "      <td>35.156491</td>\n",
       "      <td>-92.75858</td>\n",
       "      <td>10</td>\n",
       "      <td>1</td>\n",
       "      <td>1967</td>\n",
       "    </tr>\n",
       "    <tr>\n",
       "      <th>4</th>\n",
       "      <td>7</td>\n",
       "      <td>10/1/67</td>\n",
       "      <td>NaN</td>\n",
       "      <td>NaN</td>\n",
       "      <td>3801 CAMP ROBINSON RD.</td>\n",
       "      <td>North Little Rock</td>\n",
       "      <td>AR</td>\n",
       "      <td>72118</td>\n",
       "      <td>Wal-Mart</td>\n",
       "      <td>34.813269</td>\n",
       "      <td>-92.30229</td>\n",
       "      <td>10</td>\n",
       "      <td>1</td>\n",
       "      <td>1967</td>\n",
       "    </tr>\n",
       "  </tbody>\n",
       "</table>\n",
       "</div>"
      ],
      "text/plain": [
       "   storenum OPENDATE date_super  conversion              STREETADDR  \\\n",
       "0         1   7/1/62     3/1/97         1.0        2110 WEST WALNUT   \n",
       "1         2   8/1/64     3/1/96         1.0        1417 HWY 62/65 N   \n",
       "2         4   8/1/65     3/1/02         1.0       2901 HWY 412 EAST   \n",
       "3         8  10/1/67     3/1/93         1.0   1621 NORTH BUSINESS 9   \n",
       "4         7  10/1/67        NaN         NaN  3801 CAMP ROBINSON RD.   \n",
       "\n",
       "             STRCITY STRSTATE  ZIPCODE   type_store        LAT       LON  \\\n",
       "0             Rogers       AR    72756  Supercenter  36.342235 -94.07141   \n",
       "1           Harrison       AR    72601  Supercenter  36.236984 -93.09345   \n",
       "2     Siloam Springs       AR    72761  Supercenter  36.179905 -94.50208   \n",
       "3          Morrilton       AR    72110  Supercenter  35.156491 -92.75858   \n",
       "4  North Little Rock       AR    72118     Wal-Mart  34.813269 -92.30229   \n",
       "\n",
       "   MONTH  DAY  YEAR  \n",
       "0      7    1  1962  \n",
       "1      8    1  1964  \n",
       "2      8    1  1965  \n",
       "3     10    1  1967  \n",
       "4     10    1  1967  "
      ]
     },
     "execution_count": 4,
     "metadata": {},
     "output_type": "execute_result"
    }
   ],
   "source": [
    "# your code here\n",
    "\n",
    "ARStores = walmart.loc[walmart[\"STRSTATE\"] == \"AR\"]\n",
    "\n",
    "#Let's briefly look at your result\n",
    "ARStores.head()"
   ]
  },
  {
   "cell_type": "markdown",
   "metadata": {},
   "source": [
    "Awesome, now we have all the stores in Arkansas. Now, make two more dataframes: one with all of the Supercenters in Arkansas, and one with all of the Wal-marts in Arkansas. You should be using the \"type_store\" column."
   ]
  },
  {
   "cell_type": "code",
   "execution_count": 5,
   "metadata": {
    "collapsed": true
   },
   "outputs": [],
   "source": [
    "# your code here\n",
    "\n",
    "# find all supercenters\n",
    "ARSuper = ARStores.loc[ARStores[\"type_store\"] == \"Supercenter\"]\n",
    "\n",
    "# find all wal-marts\n",
    "ARWalmart = ARStores.loc[ARStores[\"type_store\"] == \"Wal-Mart\"]\n"
   ]
  },
  {
   "cell_type": "markdown",
   "metadata": {},
   "source": [
    "At this point, I'm truly just interested in the YEAR information, so make 2 series of just the YEAR Columns for both Supercenters and Walmarts"
   ]
  },
  {
   "cell_type": "code",
   "execution_count": 8,
   "metadata": {
    "collapsed": true
   },
   "outputs": [],
   "source": [
    "# Your code here\n",
    "\n",
    "#Find all YEARS that Supercenters Opened\n",
    "ARSuperYears = ARSuper[\"YEAR\"]\n",
    "\n",
    "#Find all YEARS that Walmarts opened\n",
    "ARWalmartYears = ARWalmart[\"YEAR\"]\n"
   ]
  },
  {
   "cell_type": "markdown",
   "metadata": {},
   "source": [
    "Now that we have all the years, let's find out when the first store opened, when the last store opened, and how many stores there are in total. You should use the .min(), .max() and .count() functions! Hint: you'll have to compare the results of min and max for the two Series to find out when the first and last store in the whole state opened up. "
   ]
  },
  {
   "cell_type": "code",
   "execution_count": 9,
   "metadata": {},
   "outputs": [
    {
     "name": "stdout",
     "output_type": "stream",
     "text": [
      "The first Supercenter opened in  1962\n",
      "The first Walmart opened in  1967\n",
      "The last Supercenter opened in  2005\n",
      "The last Walmart opened in  1982\n",
      "The first store opened in  1962\n",
      "The last store opened in  2005\n",
      "The total number of Supercenters  is  60\n",
      "The total number of Wal-marts  is  21\n",
      "The total number of stores is  81\n"
     ]
    }
   ],
   "source": [
    "# your code here \n",
    "\n",
    "# find min of ARSuperYears\n",
    "ARSuperMin = ARSuperYears.min()\n",
    "\n",
    "# find min of ARWalmartYyears\n",
    "ARWalmartMin = ARWalmartYears.min()\n",
    "\n",
    "# find max of ARSuperYears\n",
    "ARSuperMax = ARSuperYears.max()\n",
    "\n",
    "# find max of ARWalmartYyears\n",
    "ARWalmartMax = ARWalmartYears.max()\n",
    "\n",
    "# find count of ARSuperYears\n",
    "ARSuperCount = ARSuperYears.count()\n",
    "\n",
    "# find count of ARWalmartYyears\n",
    "ARWalmartCount = ARWalmartYears.count()\n",
    "\n",
    "# find First store tha opened in AR\n",
    "# https://stackoverflow.com/questions/3357369/maximum-of-2-numbers\n",
    "ARFirst = min(ARSuperMin, ARWalmartMin)\n",
    "\n",
    "# find Last store tha opened in AR\n",
    "ARLast = max(ARSuperMax, ARWalmartMax)\n",
    "\n",
    "# find total number of stores in AR\n",
    "ARCount = ARSuperCount + ARWalmartCount\n",
    "\n",
    "#print results\n",
    "print(\"The first Supercenter opened in \", ARSuperMin)\n",
    "\n",
    "print(\"The first Walmart opened in \", ARWalmartMin)\n",
    "\n",
    "print(\"The last Supercenter opened in \", ARSuperMax)\n",
    "\n",
    "print(\"The last Walmart opened in \", ARWalmartMax)\n",
    "\n",
    "print(\"The first store opened in \", ARFirst)\n",
    "\n",
    "print(\"The last store opened in \", ARLast)\n",
    "\n",
    "print(\"The total number of Supercenters  is \", ARSuperCount)\n",
    "\n",
    "print(\"The total number of Wal-marts  is \", ARWalmartCount)\n",
    "\n",
    "print(\"The total number of stores is \", ARCount)\n"
   ]
  },
  {
   "cell_type": "markdown",
   "metadata": {},
   "source": [
    "Now that we know how to find all this information, write a function called StateStoreData that takes a state abbreviation as the argument, and it returns a dictionary of state, total_stores, total_supercenters, total_walmarts, first_store, and last_store. \n",
    "\n",
    "Note: depending on how you solve this problem, you may get a warning from python because of the indexing. You can suppress the warnings by running the cell below. "
   ]
  },
  {
   "cell_type": "code",
   "execution_count": 10,
   "metadata": {
    "collapsed": true
   },
   "outputs": [],
   "source": [
    "import warnings\n",
    "warnings.filterwarnings('ignore')"
   ]
  },
  {
   "cell_type": "code",
   "execution_count": 16,
   "metadata": {
    "collapsed": true
   },
   "outputs": [],
   "source": [
    "def StateStoreData(state):\n",
    "    ARStores = walmart.loc[walmart[\"STRSTATE\"] == state]\n",
    "    \n",
    "    # find all supercenters\n",
    "    ARSuper = ARStores.loc[ARStores[\"type_store\"] == \"Supercenter\"]\n",
    "\n",
    "    # find all wal-marts\n",
    "    ARWalmart = ARStores.loc[ARStores[\"type_store\"] == \"Wal-Mart\"]\n",
    "    \n",
    "    #Find all YEARS that Supercenters Opened\n",
    "    ARSuperYears = ARSuper[\"YEAR\"]\n",
    "\n",
    "    #Find all YEARS that Walmarts opened\n",
    "    ARWalmartYears = ARWalmart[\"YEAR\"]\n",
    "\n",
    "    # your code here\n",
    "    # find min of ARSuperYears\n",
    "    ARSuperMin = ARSuperYears.min()\n",
    "\n",
    "    # find min of ARWalmartYyears\n",
    "    ARWalmartMin = ARWalmartYears.min()\n",
    "\n",
    "    # find max of ARSuperYears\n",
    "    ARSuperMax = ARSuperYears.max()\n",
    "\n",
    "    # find max of ARWalmartYyears\n",
    "    ARWalmartMax = ARWalmartYears.max()\n",
    "\n",
    "    # find count of ARSuperYears\n",
    "    ARSuperCount = ARSuperYears.count()\n",
    "\n",
    "    # find count of ARWalmartYyears\n",
    "    ARWalmartCount = ARWalmartYears.count()\n",
    "\n",
    "    # find First store tha opened in state\n",
    "    # https://stackoverflow.com/questions/3357369/maximum-of-2-numbers\n",
    "    ARFirst = min(ARSuperMin, ARWalmartMin)\n",
    "\n",
    "    # find Last store tha opened in state\n",
    "    ARLast = max(ARSuperMax, ARWalmartMax)\n",
    "\n",
    "    # find total number of stores in state\n",
    "    ARCount = ARSuperCount + ARWalmartCount\n",
    "    \n",
    "    dictionary = {\"state\": state}\n",
    "    dictionary[\"total_stores\"] = ARCount\n",
    "    dictionary[\"total_supercenters\"] = ARSuperCount\n",
    "    dictionary[\"total_walmarts\"] = ARWalmartCount\n",
    "    dictionary[\"first_store\"] = ARFirst\n",
    "    dictionary[\"last_store\"] = ARLast\n",
    "    return dictionary\n",
    "    \n",
    "    "
   ]
  },
  {
   "cell_type": "markdown",
   "metadata": {},
   "source": [
    "Pass \"AR\" into the funciton you just made to make sure you get the results as you did before you made the function."
   ]
  },
  {
   "cell_type": "code",
   "execution_count": 17,
   "metadata": {},
   "outputs": [
    {
     "data": {
      "text/plain": [
       "{'first_store': 1962,\n",
       " 'last_store': 2005,\n",
       " 'state': 'AR',\n",
       " 'total_stores': 81,\n",
       " 'total_supercenters': 60,\n",
       " 'total_walmarts': 21}"
      ]
     },
     "execution_count": 17,
     "metadata": {},
     "output_type": "execute_result"
    }
   ],
   "source": [
    "# your code here\n",
    "StateStoreData(\"AR\")"
   ]
  },
  {
   "cell_type": "markdown",
   "metadata": {},
   "source": [
    "Despite the fact that there are at least 3 Wal-marts within 20 miles of my home in MA, this dataset doesn't have any information about MA stores. Does this function fail if you try to pass \"MA\"? <br>\n",
    "<b>Answer HERE:</b> No it does not fail. It puts NAN for first_store and last_store, \"MA\" for state, and 0 for the other fields"
   ]
  },
  {
   "cell_type": "code",
   "execution_count": 19,
   "metadata": {},
   "outputs": [
    {
     "data": {
      "text/plain": [
       "{'first_store': nan,\n",
       " 'last_store': nan,\n",
       " 'state': 'MA',\n",
       " 'total_stores': 0,\n",
       " 'total_supercenters': 0,\n",
       " 'total_walmarts': 0}"
      ]
     },
     "execution_count": 19,
     "metadata": {},
     "output_type": "execute_result"
    }
   ],
   "source": [
    "# your code here\n",
    "StateStoreData(\"MA\")\n"
   ]
  },
  {
   "cell_type": "markdown",
   "metadata": {},
   "source": [
    "### Part 3: Using a pivot table\n",
    "You can also solve this problem by using a pivot table. Make a pivot table with STRSTATE as an index, type_store as the columns, YEAR as value, and have the aggfuncitons be min, max, and count. <br>\n",
    "<b>Note</b>: There is no np.count funciton, but there is an np.count_nonzero function"
   ]
  },
  {
   "cell_type": "code",
   "execution_count": 20,
   "metadata": {},
   "outputs": [
    {
     "data": {
      "text/html": [
       "<div>\n",
       "<style>\n",
       "    .dataframe thead tr:only-child th {\n",
       "        text-align: right;\n",
       "    }\n",
       "\n",
       "    .dataframe thead th {\n",
       "        text-align: left;\n",
       "    }\n",
       "\n",
       "    .dataframe tbody tr th {\n",
       "        vertical-align: top;\n",
       "    }\n",
       "</style>\n",
       "<table border=\"1\" class=\"dataframe\">\n",
       "  <thead>\n",
       "    <tr>\n",
       "      <th></th>\n",
       "      <th colspan=\"2\" halign=\"left\">min</th>\n",
       "      <th colspan=\"2\" halign=\"left\">max</th>\n",
       "      <th colspan=\"2\" halign=\"left\">count_nonzero</th>\n",
       "    </tr>\n",
       "    <tr>\n",
       "      <th>type_store</th>\n",
       "      <th>Supercenter</th>\n",
       "      <th>Wal-Mart</th>\n",
       "      <th>Supercenter</th>\n",
       "      <th>Wal-Mart</th>\n",
       "      <th>Supercenter</th>\n",
       "      <th>Wal-Mart</th>\n",
       "    </tr>\n",
       "    <tr>\n",
       "      <th>STRSTATE</th>\n",
       "      <th></th>\n",
       "      <th></th>\n",
       "      <th></th>\n",
       "      <th></th>\n",
       "      <th></th>\n",
       "      <th></th>\n",
       "    </tr>\n",
       "  </thead>\n",
       "  <tbody>\n",
       "    <tr>\n",
       "      <th>AL</th>\n",
       "      <td>1979</td>\n",
       "      <td>1981</td>\n",
       "      <td>2006</td>\n",
       "      <td>1991</td>\n",
       "      <td>76</td>\n",
       "      <td>14</td>\n",
       "    </tr>\n",
       "    <tr>\n",
       "      <th>AR</th>\n",
       "      <td>1962</td>\n",
       "      <td>1967</td>\n",
       "      <td>2005</td>\n",
       "      <td>1982</td>\n",
       "      <td>60</td>\n",
       "      <td>21</td>\n",
       "    </tr>\n",
       "    <tr>\n",
       "      <th>AZ</th>\n",
       "      <td>1988</td>\n",
       "      <td>1988</td>\n",
       "      <td>2005</td>\n",
       "      <td>1997</td>\n",
       "      <td>40</td>\n",
       "      <td>15</td>\n",
       "    </tr>\n",
       "    <tr>\n",
       "      <th>CA</th>\n",
       "      <td>1990</td>\n",
       "      <td>1990</td>\n",
       "      <td>2006</td>\n",
       "      <td>2006</td>\n",
       "      <td>13</td>\n",
       "      <td>146</td>\n",
       "    </tr>\n",
       "    <tr>\n",
       "      <th>CO</th>\n",
       "      <td>1985</td>\n",
       "      <td>1986</td>\n",
       "      <td>2006</td>\n",
       "      <td>2000</td>\n",
       "      <td>43</td>\n",
       "      <td>13</td>\n",
       "    </tr>\n",
       "    <tr>\n",
       "      <th>DE</th>\n",
       "      <td>1991</td>\n",
       "      <td>1991</td>\n",
       "      <td>2003</td>\n",
       "      <td>2006</td>\n",
       "      <td>4</td>\n",
       "      <td>4</td>\n",
       "    </tr>\n",
       "    <tr>\n",
       "      <th>FL</th>\n",
       "      <td>1982</td>\n",
       "      <td>1983</td>\n",
       "      <td>2006</td>\n",
       "      <td>2000</td>\n",
       "      <td>127</td>\n",
       "      <td>48</td>\n",
       "    </tr>\n",
       "    <tr>\n",
       "      <th>GA</th>\n",
       "      <td>1981</td>\n",
       "      <td>1981</td>\n",
       "      <td>2006</td>\n",
       "      <td>1998</td>\n",
       "      <td>99</td>\n",
       "      <td>15</td>\n",
       "    </tr>\n",
       "    <tr>\n",
       "      <th>IA</th>\n",
       "      <td>1983</td>\n",
       "      <td>1984</td>\n",
       "      <td>2006</td>\n",
       "      <td>1992</td>\n",
       "      <td>37</td>\n",
       "      <td>18</td>\n",
       "    </tr>\n",
       "    <tr>\n",
       "      <th>ID</th>\n",
       "      <td>1992</td>\n",
       "      <td>1992</td>\n",
       "      <td>2005</td>\n",
       "      <td>1993</td>\n",
       "      <td>14</td>\n",
       "      <td>3</td>\n",
       "    </tr>\n",
       "    <tr>\n",
       "      <th>IL</th>\n",
       "      <td>1977</td>\n",
       "      <td>1977</td>\n",
       "      <td>2006</td>\n",
       "      <td>2006</td>\n",
       "      <td>51</td>\n",
       "      <td>79</td>\n",
       "    </tr>\n",
       "    <tr>\n",
       "      <th>IN</th>\n",
       "      <td>1983</td>\n",
       "      <td>1985</td>\n",
       "      <td>2005</td>\n",
       "      <td>2000</td>\n",
       "      <td>61</td>\n",
       "      <td>27</td>\n",
       "    </tr>\n",
       "    <tr>\n",
       "      <th>KS</th>\n",
       "      <td>1971</td>\n",
       "      <td>1970</td>\n",
       "      <td>2003</td>\n",
       "      <td>1996</td>\n",
       "      <td>35</td>\n",
       "      <td>18</td>\n",
       "    </tr>\n",
       "    <tr>\n",
       "      <th>KY</th>\n",
       "      <td>1974</td>\n",
       "      <td>1978</td>\n",
       "      <td>2005</td>\n",
       "      <td>1993</td>\n",
       "      <td>59</td>\n",
       "      <td>22</td>\n",
       "    </tr>\n",
       "    <tr>\n",
       "      <th>LA</th>\n",
       "      <td>1970</td>\n",
       "      <td>1975</td>\n",
       "      <td>2005</td>\n",
       "      <td>1989</td>\n",
       "      <td>60</td>\n",
       "      <td>23</td>\n",
       "    </tr>\n",
       "    <tr>\n",
       "      <th>MD</th>\n",
       "      <td>1991</td>\n",
       "      <td>1991</td>\n",
       "      <td>2001</td>\n",
       "      <td>2005</td>\n",
       "      <td>8</td>\n",
       "      <td>33</td>\n",
       "    </tr>\n",
       "    <tr>\n",
       "      <th>MI</th>\n",
       "      <td>1990</td>\n",
       "      <td>1989</td>\n",
       "      <td>2006</td>\n",
       "      <td>2005</td>\n",
       "      <td>40</td>\n",
       "      <td>37</td>\n",
       "    </tr>\n",
       "    <tr>\n",
       "      <th>MN</th>\n",
       "      <td>1986</td>\n",
       "      <td>1987</td>\n",
       "      <td>2005</td>\n",
       "      <td>2005</td>\n",
       "      <td>21</td>\n",
       "      <td>31</td>\n",
       "    </tr>\n",
       "    <tr>\n",
       "      <th>MO</th>\n",
       "      <td>1968</td>\n",
       "      <td>1971</td>\n",
       "      <td>2006</td>\n",
       "      <td>2004</td>\n",
       "      <td>77</td>\n",
       "      <td>40</td>\n",
       "    </tr>\n",
       "    <tr>\n",
       "      <th>MS</th>\n",
       "      <td>1974</td>\n",
       "      <td>1975</td>\n",
       "      <td>2005</td>\n",
       "      <td>1989</td>\n",
       "      <td>53</td>\n",
       "      <td>12</td>\n",
       "    </tr>\n",
       "    <tr>\n",
       "      <th>MT</th>\n",
       "      <td>1992</td>\n",
       "      <td>1994</td>\n",
       "      <td>2001</td>\n",
       "      <td>1998</td>\n",
       "      <td>7</td>\n",
       "      <td>4</td>\n",
       "    </tr>\n",
       "    <tr>\n",
       "      <th>NC</th>\n",
       "      <td>1983</td>\n",
       "      <td>1987</td>\n",
       "      <td>2006</td>\n",
       "      <td>1997</td>\n",
       "      <td>78</td>\n",
       "      <td>34</td>\n",
       "    </tr>\n",
       "    <tr>\n",
       "      <th>ND</th>\n",
       "      <td>1990</td>\n",
       "      <td>1990</td>\n",
       "      <td>1990</td>\n",
       "      <td>1992</td>\n",
       "      <td>1</td>\n",
       "      <td>7</td>\n",
       "    </tr>\n",
       "    <tr>\n",
       "      <th>NE</th>\n",
       "      <td>1984</td>\n",
       "      <td>1982</td>\n",
       "      <td>2005</td>\n",
       "      <td>1991</td>\n",
       "      <td>23</td>\n",
       "      <td>3</td>\n",
       "    </tr>\n",
       "    <tr>\n",
       "      <th>NM</th>\n",
       "      <td>1983</td>\n",
       "      <td>1985</td>\n",
       "      <td>2005</td>\n",
       "      <td>1986</td>\n",
       "      <td>26</td>\n",
       "      <td>3</td>\n",
       "    </tr>\n",
       "    <tr>\n",
       "      <th>NV</th>\n",
       "      <td>1991</td>\n",
       "      <td>1990</td>\n",
       "      <td>2006</td>\n",
       "      <td>1998</td>\n",
       "      <td>15</td>\n",
       "      <td>8</td>\n",
       "    </tr>\n",
       "    <tr>\n",
       "      <th>NY</th>\n",
       "      <td>1991</td>\n",
       "      <td>1991</td>\n",
       "      <td>2006</td>\n",
       "      <td>2005</td>\n",
       "      <td>35</td>\n",
       "      <td>48</td>\n",
       "    </tr>\n",
       "    <tr>\n",
       "      <th>OH</th>\n",
       "      <td>1988</td>\n",
       "      <td>1989</td>\n",
       "      <td>2006</td>\n",
       "      <td>2004</td>\n",
       "      <td>72</td>\n",
       "      <td>52</td>\n",
       "    </tr>\n",
       "    <tr>\n",
       "      <th>OK</th>\n",
       "      <td>1968</td>\n",
       "      <td>1975</td>\n",
       "      <td>2003</td>\n",
       "      <td>1990</td>\n",
       "      <td>53</td>\n",
       "      <td>29</td>\n",
       "    </tr>\n",
       "    <tr>\n",
       "      <th>OR</th>\n",
       "      <td>1992</td>\n",
       "      <td>1992</td>\n",
       "      <td>2005</td>\n",
       "      <td>2005</td>\n",
       "      <td>12</td>\n",
       "      <td>17</td>\n",
       "    </tr>\n",
       "    <tr>\n",
       "      <th>PA</th>\n",
       "      <td>1990</td>\n",
       "      <td>1991</td>\n",
       "      <td>2006</td>\n",
       "      <td>2006</td>\n",
       "      <td>70</td>\n",
       "      <td>46</td>\n",
       "    </tr>\n",
       "    <tr>\n",
       "      <th>SC</th>\n",
       "      <td>1981</td>\n",
       "      <td>1981</td>\n",
       "      <td>2006</td>\n",
       "      <td>1995</td>\n",
       "      <td>49</td>\n",
       "      <td>14</td>\n",
       "    </tr>\n",
       "    <tr>\n",
       "      <th>SD</th>\n",
       "      <td>1990</td>\n",
       "      <td>1990</td>\n",
       "      <td>2006</td>\n",
       "      <td>1990</td>\n",
       "      <td>10</td>\n",
       "      <td>1</td>\n",
       "    </tr>\n",
       "    <tr>\n",
       "      <th>TN</th>\n",
       "      <td>1974</td>\n",
       "      <td>1973</td>\n",
       "      <td>2006</td>\n",
       "      <td>1995</td>\n",
       "      <td>81</td>\n",
       "      <td>16</td>\n",
       "    </tr>\n",
       "    <tr>\n",
       "      <th>TX</th>\n",
       "      <td>1975</td>\n",
       "      <td>1976</td>\n",
       "      <td>2006</td>\n",
       "      <td>1999</td>\n",
       "      <td>253</td>\n",
       "      <td>62</td>\n",
       "    </tr>\n",
       "    <tr>\n",
       "      <th>UT</th>\n",
       "      <td>1990</td>\n",
       "      <td>1992</td>\n",
       "      <td>2004</td>\n",
       "      <td>1995</td>\n",
       "      <td>26</td>\n",
       "      <td>2</td>\n",
       "    </tr>\n",
       "    <tr>\n",
       "      <th>VA</th>\n",
       "      <td>1987</td>\n",
       "      <td>1984</td>\n",
       "      <td>2006</td>\n",
       "      <td>2004</td>\n",
       "      <td>61</td>\n",
       "      <td>20</td>\n",
       "    </tr>\n",
       "    <tr>\n",
       "      <th>WA</th>\n",
       "      <td>1993</td>\n",
       "      <td>1994</td>\n",
       "      <td>2006</td>\n",
       "      <td>2005</td>\n",
       "      <td>19</td>\n",
       "      <td>20</td>\n",
       "    </tr>\n",
       "    <tr>\n",
       "      <th>WI</th>\n",
       "      <td>1986</td>\n",
       "      <td>1985</td>\n",
       "      <td>2005</td>\n",
       "      <td>2005</td>\n",
       "      <td>43</td>\n",
       "      <td>34</td>\n",
       "    </tr>\n",
       "    <tr>\n",
       "      <th>WV</th>\n",
       "      <td>1989</td>\n",
       "      <td>1990</td>\n",
       "      <td>2006</td>\n",
       "      <td>1994</td>\n",
       "      <td>26</td>\n",
       "      <td>6</td>\n",
       "    </tr>\n",
       "    <tr>\n",
       "      <th>WY</th>\n",
       "      <td>1989</td>\n",
       "      <td>1991</td>\n",
       "      <td>1992</td>\n",
       "      <td>1991</td>\n",
       "      <td>8</td>\n",
       "      <td>1</td>\n",
       "    </tr>\n",
       "  </tbody>\n",
       "</table>\n",
       "</div>"
      ],
      "text/plain": [
       "                   min                  max          count_nonzero         \n",
       "type_store Supercenter Wal-Mart Supercenter Wal-Mart   Supercenter Wal-Mart\n",
       "STRSTATE                                                                   \n",
       "AL                1979     1981        2006     1991            76       14\n",
       "AR                1962     1967        2005     1982            60       21\n",
       "AZ                1988     1988        2005     1997            40       15\n",
       "CA                1990     1990        2006     2006            13      146\n",
       "CO                1985     1986        2006     2000            43       13\n",
       "DE                1991     1991        2003     2006             4        4\n",
       "FL                1982     1983        2006     2000           127       48\n",
       "GA                1981     1981        2006     1998            99       15\n",
       "IA                1983     1984        2006     1992            37       18\n",
       "ID                1992     1992        2005     1993            14        3\n",
       "IL                1977     1977        2006     2006            51       79\n",
       "IN                1983     1985        2005     2000            61       27\n",
       "KS                1971     1970        2003     1996            35       18\n",
       "KY                1974     1978        2005     1993            59       22\n",
       "LA                1970     1975        2005     1989            60       23\n",
       "MD                1991     1991        2001     2005             8       33\n",
       "MI                1990     1989        2006     2005            40       37\n",
       "MN                1986     1987        2005     2005            21       31\n",
       "MO                1968     1971        2006     2004            77       40\n",
       "MS                1974     1975        2005     1989            53       12\n",
       "MT                1992     1994        2001     1998             7        4\n",
       "NC                1983     1987        2006     1997            78       34\n",
       "ND                1990     1990        1990     1992             1        7\n",
       "NE                1984     1982        2005     1991            23        3\n",
       "NM                1983     1985        2005     1986            26        3\n",
       "NV                1991     1990        2006     1998            15        8\n",
       "NY                1991     1991        2006     2005            35       48\n",
       "OH                1988     1989        2006     2004            72       52\n",
       "OK                1968     1975        2003     1990            53       29\n",
       "OR                1992     1992        2005     2005            12       17\n",
       "PA                1990     1991        2006     2006            70       46\n",
       "SC                1981     1981        2006     1995            49       14\n",
       "SD                1990     1990        2006     1990            10        1\n",
       "TN                1974     1973        2006     1995            81       16\n",
       "TX                1975     1976        2006     1999           253       62\n",
       "UT                1990     1992        2004     1995            26        2\n",
       "VA                1987     1984        2006     2004            61       20\n",
       "WA                1993     1994        2006     2005            19       20\n",
       "WI                1986     1985        2005     2005            43       34\n",
       "WV                1989     1990        2006     1994            26        6\n",
       "WY                1989     1991        1992     1991             8        1"
      ]
     },
     "execution_count": 20,
     "metadata": {},
     "output_type": "execute_result"
    }
   ],
   "source": [
    "# your code here\n",
    "walmartpivot= walmart.pivot_table(values = \"YEAR\", index = \"STRSTATE\", columns = \"type_store\", aggfunc = [min, max, np.count_nonzero])\n",
    "walmartpivot"
   ]
  },
  {
   "cell_type": "markdown",
   "metadata": {},
   "source": [
    "Now, return the row with the Arkansas data.  You should be looking at the index. "
   ]
  },
  {
   "cell_type": "code",
   "execution_count": 25,
   "metadata": {},
   "outputs": [
    {
     "data": {
      "text/plain": [
       "               type_store \n",
       "min            Supercenter    1962\n",
       "               Wal-Mart       1967\n",
       "max            Supercenter    2005\n",
       "               Wal-Mart       1982\n",
       "count_nonzero  Supercenter      60\n",
       "               Wal-Mart         21\n",
       "Name: AR, dtype: int64"
      ]
     },
     "execution_count": 25,
     "metadata": {},
     "output_type": "execute_result"
    }
   ],
   "source": [
    "#Your Code here\n",
    "# https://stackoverflow.com/questions/11973741/filtering-and-selecting-from-pivot-tables-made-with-python-pandas\n",
    "\n",
    "ARPivot = walmartpivot.ix[\"AR\"]\n",
    "ARPivot"
   ]
  },
  {
   "cell_type": "markdown",
   "metadata": {},
   "source": [
    "You can use iloc to return values of specific cells. To test this, return the value of the count of Wal-Marts."
   ]
  },
  {
   "cell_type": "code",
   "execution_count": 28,
   "metadata": {},
   "outputs": [
    {
     "name": "stdout",
     "output_type": "stream",
     "text": [
      "21\n"
     ]
    }
   ],
   "source": [
    "ARWalmartCount = ARPivot.iloc[5]\n",
    "print(ARWalmartCount)"
   ]
  },
  {
   "cell_type": "markdown",
   "metadata": {},
   "source": [
    "Now make a new function called StateStoreData2 that takes a state abbreviation as the argument, and it returns a dictionary of state, total_stores, total_supercenters, total_walmarts, first_store, and last_store. You must use the pivot table and iloc!\n"
   ]
  },
  {
   "cell_type": "code",
   "execution_count": 29,
   "metadata": {
    "collapsed": true
   },
   "outputs": [],
   "source": [
    "def StateStoreData2(state):\n",
    "    # your code here\n",
    "    walmartpivot= walmart.pivot_table(values = \"YEAR\", index = \"STRSTATE\", columns = \"type_store\", aggfunc = [min, max, np.count_nonzero])\n",
    "    ARPivot = walmartpivot.ix[state]\n",
    "    total_supercenters = ARPivot.iloc[4]\n",
    "    total_walmarts = ARPivot.iloc[5]\n",
    "    total_stores = total_supercenters + total_walmarts\n",
    "    first_store = min(ARPivot.iloc[0], ARPivot.iloc[1])\n",
    "    last_store = max(ARPivot.iloc[2], ARPivot.iloc[3])\n",
    "    return {\"state\": state, \"total_stores\": total_stores, \"total_supercenters\": total_supercenters, \"total_walmarts\": total_walmarts, \"first_store\": first_store, \"last_store\": last_store}"
   ]
  },
  {
   "cell_type": "code",
   "execution_count": 30,
   "metadata": {},
   "outputs": [
    {
     "data": {
      "text/plain": [
       "{'first_store': 1962,\n",
       " 'last_store': 2005,\n",
       " 'state': 'AR',\n",
       " 'total_stores': 81,\n",
       " 'total_supercenters': 60,\n",
       " 'total_walmarts': 21}"
      ]
     },
     "execution_count": 30,
     "metadata": {},
     "output_type": "execute_result"
    }
   ],
   "source": [
    "StateStoreData2(\"AR\")"
   ]
  },
  {
   "cell_type": "markdown",
   "metadata": {},
   "source": [
    "## Problem 2: \n",
    "### Created by: Phil\n",
    "### Undergraduate 2.5 points Graduate 2 points"
   ]
  },
  {
   "cell_type": "markdown",
   "metadata": {},
   "source": [
    "# Exploring Voting Results by Method\n",
    "## PSet3 Problem by Phil\n",
    "\n",
    "As some of us may remember, the 2000 Presidential election was extremely close and hotly contested. Much of the drama occurred in the state of Florida, where many ballots had to be recounted by hand. As the recount progressed, the nation learned of some of the shortcomings of various schemes of ballot and voting machine design. Some of the factors that were investigated included the type of mechanism used to count votes, and the design of the ballot itself.\n",
    "\n",
    "In the Florida election, each county used one of five methods to count votes:\n",
    "* Optical scanning of a paper ballot marked by filling in an oval next to the candidate's name\n",
    "* Votamatic machines, which require the voter to use a stylus to press out a perforated rectangle (a \"chad\") in a standard IBM punch card\n",
    "* Datavote machines, which use a similar mechanism to that of the Votamatic\n",
    "* Hand counting of a ballot filled out manually by the voter\n",
    "* Lever machines, which mechanically count the positions on a set of levers flipped by the voter\n",
    "\n",
    "Hand counting and lever machines are older methods that are rarely used today. Recent trends have been away from punch-card ballots toward either optical scanning or direct entry on an electronic touch-screen. In 2000, Florida used almost entirely either optical or punch-card systems.\n",
    "\n",
    "One significant problem in counting votes occurs when a voter fills out a ballot incorrectly. In many local elections one can vote for two or more candidates for a given position, up to a maximum. (For example, you might see an instruction like \"Vote for any THREE\" next to a list of ten candidates for three open positions on the local school board. If a voter's ballot shows choices for only one or two candidates in a multiple-choice race, or shows no choice at all for a single-choice race like President, this may have been his or her intention; *OR* the ballot may have been incorrectly marked, or may have been counted incorrectly by a machine. This situation is called an \"undervote\". Similarly, the voter's ballot may show more than the allowed number of candidates, an \"overvote\".\n",
    "\n",
    "Another factor that can cause problems is whether the candidates' names are listed in a single column or in two columns. The two-column arrangement (the infamous \"butterfly ballot\") arranged the names to the left and right of a single column of hole-punch locations, accommodating the small width of the IBM punch card placed below the sheet that lists the candidates. This arrangement may make it more difficult to identify the correct location to punch, leading to ballots whose markings do not reflect the voter's intention. \n",
    "\n",
    "While undervotes and overvotes may not invalidate an entire ballot, how often they occur can tell us something about the relative reliability of different technologies and ballot designs.\n",
    "\n",
    "Examples of the various ballots used recently in the U.S. can be seen here: https://www.verifiedvoting.org/resources/voting-equipment/. Images of the one- and two-column ballot shapes can be seen here: www.nytimes.com/images/2001/11/12/politics/recount/index_BALLOT.html\n",
    "\n",
    "Let's look at some of the results compiled during the Florida 2000 recount. Note that there were several minor-party candidates besides Bush and Gore, but we'll focus on those two.\n",
    "The fl2000.csv file contains the vote counts for each candidate in each county, along with:\n",
    "* the type of technology used to count votes\n",
    "* the number of columns on the ballot\n",
    "* the number of undervotes and overvotes\n",
    "\n",
    "This data was compiled by Brett Presnell of the University of Florida Statistics Department.\n",
    "\n",
    "Let's load the file (available on Canvas) the usual way and see what it looks like:"
   ]
  },
  {
   "cell_type": "code",
   "execution_count": 31,
   "metadata": {
    "collapsed": true
   },
   "outputs": [],
   "source": [
    "import pandas as pd\n",
    "import numpy as np\n",
    "df = pd.read_csv('fl2000.csv')"
   ]
  },
  {
   "cell_type": "code",
   "execution_count": 32,
   "metadata": {},
   "outputs": [
    {
     "data": {
      "text/html": [
       "<div>\n",
       "<style>\n",
       "    .dataframe thead tr:only-child th {\n",
       "        text-align: right;\n",
       "    }\n",
       "\n",
       "    .dataframe thead th {\n",
       "        text-align: left;\n",
       "    }\n",
       "\n",
       "    .dataframe tbody tr th {\n",
       "        vertical-align: top;\n",
       "    }\n",
       "</style>\n",
       "<table border=\"1\" class=\"dataframe\">\n",
       "  <thead>\n",
       "    <tr style=\"text-align: right;\">\n",
       "      <th></th>\n",
       "      <th>county</th>\n",
       "      <th>technology</th>\n",
       "      <th>columns</th>\n",
       "      <th>under</th>\n",
       "      <th>over</th>\n",
       "      <th>Bush</th>\n",
       "      <th>Gore</th>\n",
       "      <th>Browne</th>\n",
       "      <th>Nader</th>\n",
       "      <th>Harris</th>\n",
       "      <th>Hagelin</th>\n",
       "      <th>Buchanan</th>\n",
       "      <th>McReynolds</th>\n",
       "      <th>Phillips</th>\n",
       "      <th>Moorehead</th>\n",
       "      <th>Chote</th>\n",
       "      <th>McCarthy</th>\n",
       "    </tr>\n",
       "  </thead>\n",
       "  <tbody>\n",
       "    <tr>\n",
       "      <th>0</th>\n",
       "      <td>string</td>\n",
       "      <td>string</td>\n",
       "      <td>int</td>\n",
       "      <td>int</td>\n",
       "      <td>int</td>\n",
       "      <td>int</td>\n",
       "      <td>int</td>\n",
       "      <td>int</td>\n",
       "      <td>int</td>\n",
       "      <td>int</td>\n",
       "      <td>int</td>\n",
       "      <td>int</td>\n",
       "      <td>int</td>\n",
       "      <td>int</td>\n",
       "      <td>int</td>\n",
       "      <td>int</td>\n",
       "      <td>int</td>\n",
       "    </tr>\n",
       "    <tr>\n",
       "      <th>1</th>\n",
       "      <td>Alachua</td>\n",
       "      <td>Optical</td>\n",
       "      <td>1</td>\n",
       "      <td>217</td>\n",
       "      <td>105</td>\n",
       "      <td>34124</td>\n",
       "      <td>47365</td>\n",
       "      <td>658</td>\n",
       "      <td>3226</td>\n",
       "      <td>6</td>\n",
       "      <td>42</td>\n",
       "      <td>263</td>\n",
       "      <td>4</td>\n",
       "      <td>20</td>\n",
       "      <td>21</td>\n",
       "      <td>0</td>\n",
       "      <td>0</td>\n",
       "    </tr>\n",
       "    <tr>\n",
       "      <th>2</th>\n",
       "      <td>Baker</td>\n",
       "      <td>Optical</td>\n",
       "      <td>1</td>\n",
       "      <td>79</td>\n",
       "      <td>46</td>\n",
       "      <td>5610</td>\n",
       "      <td>2392</td>\n",
       "      <td>17</td>\n",
       "      <td>53</td>\n",
       "      <td>0</td>\n",
       "      <td>3</td>\n",
       "      <td>73</td>\n",
       "      <td>0</td>\n",
       "      <td>3</td>\n",
       "      <td>3</td>\n",
       "      <td>0</td>\n",
       "      <td>0</td>\n",
       "    </tr>\n",
       "    <tr>\n",
       "      <th>3</th>\n",
       "      <td>Bay</td>\n",
       "      <td>Optical</td>\n",
       "      <td>1</td>\n",
       "      <td>541</td>\n",
       "      <td>141</td>\n",
       "      <td>38637</td>\n",
       "      <td>18850</td>\n",
       "      <td>171</td>\n",
       "      <td>828</td>\n",
       "      <td>5</td>\n",
       "      <td>18</td>\n",
       "      <td>248</td>\n",
       "      <td>3</td>\n",
       "      <td>18</td>\n",
       "      <td>27</td>\n",
       "      <td>0</td>\n",
       "      <td>0</td>\n",
       "    </tr>\n",
       "    <tr>\n",
       "      <th>4</th>\n",
       "      <td>Bradford</td>\n",
       "      <td>Optical</td>\n",
       "      <td>2</td>\n",
       "      <td>41</td>\n",
       "      <td>695</td>\n",
       "      <td>5414</td>\n",
       "      <td>3075</td>\n",
       "      <td>28</td>\n",
       "      <td>84</td>\n",
       "      <td>0</td>\n",
       "      <td>2</td>\n",
       "      <td>65</td>\n",
       "      <td>0</td>\n",
       "      <td>2</td>\n",
       "      <td>3</td>\n",
       "      <td>0</td>\n",
       "      <td>0</td>\n",
       "    </tr>\n",
       "  </tbody>\n",
       "</table>\n",
       "</div>"
      ],
      "text/plain": [
       "     county technology columns under over   Bush   Gore Browne Nader Harris  \\\n",
       "0    string     string     int   int  int    int    int    int   int    int   \n",
       "1   Alachua    Optical       1   217  105  34124  47365    658  3226      6   \n",
       "2     Baker    Optical       1    79   46   5610   2392     17    53      0   \n",
       "3       Bay    Optical       1   541  141  38637  18850    171   828      5   \n",
       "4  Bradford    Optical       2    41  695   5414   3075     28    84      0   \n",
       "\n",
       "  Hagelin Buchanan McReynolds Phillips Moorehead Chote McCarthy  \n",
       "0     int      int        int      int       int   int      int  \n",
       "1      42      263          4       20        21     0        0  \n",
       "2       3       73          0        3         3     0        0  \n",
       "3      18      248          3       18        27     0        0  \n",
       "4       2       65          0        2         3     0        0  "
      ]
     },
     "execution_count": 32,
     "metadata": {},
     "output_type": "execute_result"
    }
   ],
   "source": [
    "df.head()"
   ]
  },
  {
   "cell_type": "markdown",
   "metadata": {},
   "source": [
    "Hmmm... that first row looks odd. It looks like the data includes a helpful line at the top giving the data type of each column. This might be helpful for some users, but we have Pandas, which can figure this out itself. Not only that, but the presence of the strings \"int\" in every column but the first two cause Pandas to refuse to parse the actual integers as integers. To see this, we can list the data types of each column:"
   ]
  },
  {
   "cell_type": "code",
   "execution_count": 33,
   "metadata": {},
   "outputs": [
    {
     "data": {
      "text/plain": [
       "county        object\n",
       "technology    object\n",
       "columns       object\n",
       "under         object\n",
       "over          object\n",
       "Bush          object\n",
       "Gore          object\n",
       "Browne        object\n",
       "Nader         object\n",
       "Harris        object\n",
       "Hagelin       object\n",
       "Buchanan      object\n",
       "McReynolds    object\n",
       "Phillips      object\n",
       "Moorehead     object\n",
       "Chote         object\n",
       "McCarthy      object\n",
       "dtype: object"
      ]
     },
     "execution_count": 33,
     "metadata": {},
     "output_type": "execute_result"
    }
   ],
   "source": [
    "df.dtypes"
   ]
  },
  {
   "cell_type": "markdown",
   "metadata": {},
   "source": [
    "Yep, this extra row is a problem. Look up the documentation for the read_csv() function and find out how to use the skiprows parameter to skip just this one row. (Hint: this parameter behaves differently depending on whether you supply a single integer or a list.) Once you've reloaded the dataset, show the first 5 lines again to verify your results."
   ]
  },
  {
   "cell_type": "code",
   "execution_count": 43,
   "metadata": {},
   "outputs": [
    {
     "data": {
      "text/html": [
       "<div>\n",
       "<style>\n",
       "    .dataframe thead tr:only-child th {\n",
       "        text-align: right;\n",
       "    }\n",
       "\n",
       "    .dataframe thead th {\n",
       "        text-align: left;\n",
       "    }\n",
       "\n",
       "    .dataframe tbody tr th {\n",
       "        vertical-align: top;\n",
       "    }\n",
       "</style>\n",
       "<table border=\"1\" class=\"dataframe\">\n",
       "  <thead>\n",
       "    <tr style=\"text-align: right;\">\n",
       "      <th></th>\n",
       "      <th>county</th>\n",
       "      <th>technology</th>\n",
       "      <th>columns</th>\n",
       "      <th>under</th>\n",
       "      <th>over</th>\n",
       "      <th>Bush</th>\n",
       "      <th>Gore</th>\n",
       "      <th>Browne</th>\n",
       "      <th>Nader</th>\n",
       "      <th>Harris</th>\n",
       "      <th>Hagelin</th>\n",
       "      <th>Buchanan</th>\n",
       "      <th>McReynolds</th>\n",
       "      <th>Phillips</th>\n",
       "      <th>Moorehead</th>\n",
       "      <th>Chote</th>\n",
       "      <th>McCarthy</th>\n",
       "    </tr>\n",
       "  </thead>\n",
       "  <tbody>\n",
       "    <tr>\n",
       "      <th>0</th>\n",
       "      <td>Alachua</td>\n",
       "      <td>Optical</td>\n",
       "      <td>1</td>\n",
       "      <td>217</td>\n",
       "      <td>105</td>\n",
       "      <td>34124</td>\n",
       "      <td>47365</td>\n",
       "      <td>658</td>\n",
       "      <td>3226</td>\n",
       "      <td>6</td>\n",
       "      <td>42</td>\n",
       "      <td>263</td>\n",
       "      <td>4</td>\n",
       "      <td>20</td>\n",
       "      <td>21</td>\n",
       "      <td>0</td>\n",
       "      <td>0</td>\n",
       "    </tr>\n",
       "    <tr>\n",
       "      <th>1</th>\n",
       "      <td>Baker</td>\n",
       "      <td>Optical</td>\n",
       "      <td>1</td>\n",
       "      <td>79</td>\n",
       "      <td>46</td>\n",
       "      <td>5610</td>\n",
       "      <td>2392</td>\n",
       "      <td>17</td>\n",
       "      <td>53</td>\n",
       "      <td>0</td>\n",
       "      <td>3</td>\n",
       "      <td>73</td>\n",
       "      <td>0</td>\n",
       "      <td>3</td>\n",
       "      <td>3</td>\n",
       "      <td>0</td>\n",
       "      <td>0</td>\n",
       "    </tr>\n",
       "    <tr>\n",
       "      <th>2</th>\n",
       "      <td>Bay</td>\n",
       "      <td>Optical</td>\n",
       "      <td>1</td>\n",
       "      <td>541</td>\n",
       "      <td>141</td>\n",
       "      <td>38637</td>\n",
       "      <td>18850</td>\n",
       "      <td>171</td>\n",
       "      <td>828</td>\n",
       "      <td>5</td>\n",
       "      <td>18</td>\n",
       "      <td>248</td>\n",
       "      <td>3</td>\n",
       "      <td>18</td>\n",
       "      <td>27</td>\n",
       "      <td>0</td>\n",
       "      <td>0</td>\n",
       "    </tr>\n",
       "    <tr>\n",
       "      <th>3</th>\n",
       "      <td>Bradford</td>\n",
       "      <td>Optical</td>\n",
       "      <td>2</td>\n",
       "      <td>41</td>\n",
       "      <td>695</td>\n",
       "      <td>5414</td>\n",
       "      <td>3075</td>\n",
       "      <td>28</td>\n",
       "      <td>84</td>\n",
       "      <td>0</td>\n",
       "      <td>2</td>\n",
       "      <td>65</td>\n",
       "      <td>0</td>\n",
       "      <td>2</td>\n",
       "      <td>3</td>\n",
       "      <td>0</td>\n",
       "      <td>0</td>\n",
       "    </tr>\n",
       "    <tr>\n",
       "      <th>4</th>\n",
       "      <td>Brevard</td>\n",
       "      <td>Optical</td>\n",
       "      <td>1</td>\n",
       "      <td>277</td>\n",
       "      <td>136</td>\n",
       "      <td>115185</td>\n",
       "      <td>97318</td>\n",
       "      <td>643</td>\n",
       "      <td>4470</td>\n",
       "      <td>11</td>\n",
       "      <td>39</td>\n",
       "      <td>570</td>\n",
       "      <td>11</td>\n",
       "      <td>72</td>\n",
       "      <td>76</td>\n",
       "      <td>0</td>\n",
       "      <td>0</td>\n",
       "    </tr>\n",
       "  </tbody>\n",
       "</table>\n",
       "</div>"
      ],
      "text/plain": [
       "     county technology  columns  under  over    Bush   Gore  Browne  Nader  \\\n",
       "0   Alachua    Optical        1    217   105   34124  47365     658   3226   \n",
       "1     Baker    Optical        1     79    46    5610   2392      17     53   \n",
       "2       Bay    Optical        1    541   141   38637  18850     171    828   \n",
       "3  Bradford    Optical        2     41   695    5414   3075      28     84   \n",
       "4   Brevard    Optical        1    277   136  115185  97318     643   4470   \n",
       "\n",
       "   Harris  Hagelin  Buchanan  McReynolds  Phillips  Moorehead  Chote  McCarthy  \n",
       "0       6       42       263           4        20         21      0         0  \n",
       "1       0        3        73           0         3          3      0         0  \n",
       "2       5       18       248           3        18         27      0         0  \n",
       "3       0        2        65           0         2          3      0         0  \n",
       "4      11       39       570          11        72         76      0         0  "
      ]
     },
     "execution_count": 43,
     "metadata": {},
     "output_type": "execute_result"
    }
   ],
   "source": [
    "# Your code here\n",
    "# https://pandas.pydata.org/pandas-docs/stable/generated/pandas.read_csv.html\n",
    "#https://stackoverflow.com/questions/27325652/python-pandas-read-csv-skip-rows-but-keep-header\n",
    "df = pd.read_csv('fl2000.csv', skiprows = range(1,2))\n",
    "df.head()"
   ]
  },
  {
   "cell_type": "markdown",
   "metadata": {},
   "source": [
    "Use the dtypes method again to verify that the values are being interpreted correctly."
   ]
  },
  {
   "cell_type": "code",
   "execution_count": 44,
   "metadata": {},
   "outputs": [
    {
     "data": {
      "text/plain": [
       "county        object\n",
       "technology    object\n",
       "columns        int64\n",
       "under          int64\n",
       "over           int64\n",
       "Bush           int64\n",
       "Gore           int64\n",
       "Browne         int64\n",
       "Nader          int64\n",
       "Harris         int64\n",
       "Hagelin        int64\n",
       "Buchanan       int64\n",
       "McReynolds     int64\n",
       "Phillips       int64\n",
       "Moorehead      int64\n",
       "Chote          int64\n",
       "McCarthy       int64\n",
       "dtype: object"
      ]
     },
     "execution_count": 44,
     "metadata": {},
     "output_type": "execute_result"
    }
   ],
   "source": [
    "# Your code here\n",
    "df.dtypes"
   ]
  },
  {
   "cell_type": "markdown",
   "metadata": {},
   "source": [
    "The 'technology' column of your DataFrame is a pandas Series that tells the machine type or other method used by each county. Use the value_counts() method of the Series object to show how many counties use each of the five technologies."
   ]
  },
  {
   "cell_type": "code",
   "execution_count": 45,
   "metadata": {},
   "outputs": [
    {
     "data": {
      "text/plain": [
       "Optical      41\n",
       "Votomatic    15\n",
       "Datavote      9\n",
       "Hand          1\n",
       "Lever         1\n",
       "Name: technology, dtype: int64"
      ]
     },
     "execution_count": 45,
     "metadata": {},
     "output_type": "execute_result"
    }
   ],
   "source": [
    "# Your code here\n",
    "df[\"technology\"].value_counts()"
   ]
  },
  {
   "cell_type": "markdown",
   "metadata": {},
   "source": [
    "Looking at the first few rows again, we see many columns of very low counts that we don't want to have cluttering up the display."
   ]
  },
  {
   "cell_type": "code",
   "execution_count": 46,
   "metadata": {},
   "outputs": [
    {
     "data": {
      "text/html": [
       "<div>\n",
       "<style>\n",
       "    .dataframe thead tr:only-child th {\n",
       "        text-align: right;\n",
       "    }\n",
       "\n",
       "    .dataframe thead th {\n",
       "        text-align: left;\n",
       "    }\n",
       "\n",
       "    .dataframe tbody tr th {\n",
       "        vertical-align: top;\n",
       "    }\n",
       "</style>\n",
       "<table border=\"1\" class=\"dataframe\">\n",
       "  <thead>\n",
       "    <tr style=\"text-align: right;\">\n",
       "      <th></th>\n",
       "      <th>county</th>\n",
       "      <th>technology</th>\n",
       "      <th>columns</th>\n",
       "      <th>under</th>\n",
       "      <th>over</th>\n",
       "      <th>Bush</th>\n",
       "      <th>Gore</th>\n",
       "      <th>Browne</th>\n",
       "      <th>Nader</th>\n",
       "      <th>Harris</th>\n",
       "      <th>Hagelin</th>\n",
       "      <th>Buchanan</th>\n",
       "      <th>McReynolds</th>\n",
       "      <th>Phillips</th>\n",
       "      <th>Moorehead</th>\n",
       "      <th>Chote</th>\n",
       "      <th>McCarthy</th>\n",
       "    </tr>\n",
       "  </thead>\n",
       "  <tbody>\n",
       "    <tr>\n",
       "      <th>0</th>\n",
       "      <td>Alachua</td>\n",
       "      <td>Optical</td>\n",
       "      <td>1</td>\n",
       "      <td>217</td>\n",
       "      <td>105</td>\n",
       "      <td>34124</td>\n",
       "      <td>47365</td>\n",
       "      <td>658</td>\n",
       "      <td>3226</td>\n",
       "      <td>6</td>\n",
       "      <td>42</td>\n",
       "      <td>263</td>\n",
       "      <td>4</td>\n",
       "      <td>20</td>\n",
       "      <td>21</td>\n",
       "      <td>0</td>\n",
       "      <td>0</td>\n",
       "    </tr>\n",
       "    <tr>\n",
       "      <th>1</th>\n",
       "      <td>Baker</td>\n",
       "      <td>Optical</td>\n",
       "      <td>1</td>\n",
       "      <td>79</td>\n",
       "      <td>46</td>\n",
       "      <td>5610</td>\n",
       "      <td>2392</td>\n",
       "      <td>17</td>\n",
       "      <td>53</td>\n",
       "      <td>0</td>\n",
       "      <td>3</td>\n",
       "      <td>73</td>\n",
       "      <td>0</td>\n",
       "      <td>3</td>\n",
       "      <td>3</td>\n",
       "      <td>0</td>\n",
       "      <td>0</td>\n",
       "    </tr>\n",
       "    <tr>\n",
       "      <th>2</th>\n",
       "      <td>Bay</td>\n",
       "      <td>Optical</td>\n",
       "      <td>1</td>\n",
       "      <td>541</td>\n",
       "      <td>141</td>\n",
       "      <td>38637</td>\n",
       "      <td>18850</td>\n",
       "      <td>171</td>\n",
       "      <td>828</td>\n",
       "      <td>5</td>\n",
       "      <td>18</td>\n",
       "      <td>248</td>\n",
       "      <td>3</td>\n",
       "      <td>18</td>\n",
       "      <td>27</td>\n",
       "      <td>0</td>\n",
       "      <td>0</td>\n",
       "    </tr>\n",
       "    <tr>\n",
       "      <th>3</th>\n",
       "      <td>Bradford</td>\n",
       "      <td>Optical</td>\n",
       "      <td>2</td>\n",
       "      <td>41</td>\n",
       "      <td>695</td>\n",
       "      <td>5414</td>\n",
       "      <td>3075</td>\n",
       "      <td>28</td>\n",
       "      <td>84</td>\n",
       "      <td>0</td>\n",
       "      <td>2</td>\n",
       "      <td>65</td>\n",
       "      <td>0</td>\n",
       "      <td>2</td>\n",
       "      <td>3</td>\n",
       "      <td>0</td>\n",
       "      <td>0</td>\n",
       "    </tr>\n",
       "    <tr>\n",
       "      <th>4</th>\n",
       "      <td>Brevard</td>\n",
       "      <td>Optical</td>\n",
       "      <td>1</td>\n",
       "      <td>277</td>\n",
       "      <td>136</td>\n",
       "      <td>115185</td>\n",
       "      <td>97318</td>\n",
       "      <td>643</td>\n",
       "      <td>4470</td>\n",
       "      <td>11</td>\n",
       "      <td>39</td>\n",
       "      <td>570</td>\n",
       "      <td>11</td>\n",
       "      <td>72</td>\n",
       "      <td>76</td>\n",
       "      <td>0</td>\n",
       "      <td>0</td>\n",
       "    </tr>\n",
       "  </tbody>\n",
       "</table>\n",
       "</div>"
      ],
      "text/plain": [
       "     county technology  columns  under  over    Bush   Gore  Browne  Nader  \\\n",
       "0   Alachua    Optical        1    217   105   34124  47365     658   3226   \n",
       "1     Baker    Optical        1     79    46    5610   2392      17     53   \n",
       "2       Bay    Optical        1    541   141   38637  18850     171    828   \n",
       "3  Bradford    Optical        2     41   695    5414   3075      28     84   \n",
       "4   Brevard    Optical        1    277   136  115185  97318     643   4470   \n",
       "\n",
       "   Harris  Hagelin  Buchanan  McReynolds  Phillips  Moorehead  Chote  McCarthy  \n",
       "0       6       42       263           4        20         21      0         0  \n",
       "1       0        3        73           0         3          3      0         0  \n",
       "2       5       18       248           3        18         27      0         0  \n",
       "3       0        2        65           0         2          3      0         0  \n",
       "4      11       39       570          11        72         76      0         0  "
      ]
     },
     "execution_count": 46,
     "metadata": {},
     "output_type": "execute_result"
    }
   ],
   "source": [
    "df.head()"
   ]
  },
  {
   "cell_type": "markdown",
   "metadata": {},
   "source": [
    "Let's get rid of these by creating a new DataFrame that contains only the Bush, Gore, Browne, and Nader counts, along with the first five columns, which don't refer to candidates. Use the DataFrame's copy() method so that we can modify the new DataFrame later without generating the SettingWithCopyWarning message you might have seen. (Hint: this can be done in a single line of code by making a copy of a DataFrame composed of the first 9 columns of the original DataFrame; there are probably several ways to do this.) Assign the new DataFrame to the same variable *df* and show its first few lines."
   ]
  },
  {
   "cell_type": "code",
   "execution_count": 48,
   "metadata": {},
   "outputs": [
    {
     "data": {
      "text/html": [
       "<div>\n",
       "<style>\n",
       "    .dataframe thead tr:only-child th {\n",
       "        text-align: right;\n",
       "    }\n",
       "\n",
       "    .dataframe thead th {\n",
       "        text-align: left;\n",
       "    }\n",
       "\n",
       "    .dataframe tbody tr th {\n",
       "        vertical-align: top;\n",
       "    }\n",
       "</style>\n",
       "<table border=\"1\" class=\"dataframe\">\n",
       "  <thead>\n",
       "    <tr style=\"text-align: right;\">\n",
       "      <th></th>\n",
       "      <th>county</th>\n",
       "      <th>technology</th>\n",
       "      <th>columns</th>\n",
       "      <th>under</th>\n",
       "      <th>over</th>\n",
       "      <th>Bush</th>\n",
       "      <th>Gore</th>\n",
       "      <th>Browne</th>\n",
       "      <th>Nader</th>\n",
       "    </tr>\n",
       "  </thead>\n",
       "  <tbody>\n",
       "    <tr>\n",
       "      <th>0</th>\n",
       "      <td>Alachua</td>\n",
       "      <td>Optical</td>\n",
       "      <td>1</td>\n",
       "      <td>217</td>\n",
       "      <td>105</td>\n",
       "      <td>34124</td>\n",
       "      <td>47365</td>\n",
       "      <td>658</td>\n",
       "      <td>3226</td>\n",
       "    </tr>\n",
       "    <tr>\n",
       "      <th>1</th>\n",
       "      <td>Baker</td>\n",
       "      <td>Optical</td>\n",
       "      <td>1</td>\n",
       "      <td>79</td>\n",
       "      <td>46</td>\n",
       "      <td>5610</td>\n",
       "      <td>2392</td>\n",
       "      <td>17</td>\n",
       "      <td>53</td>\n",
       "    </tr>\n",
       "    <tr>\n",
       "      <th>2</th>\n",
       "      <td>Bay</td>\n",
       "      <td>Optical</td>\n",
       "      <td>1</td>\n",
       "      <td>541</td>\n",
       "      <td>141</td>\n",
       "      <td>38637</td>\n",
       "      <td>18850</td>\n",
       "      <td>171</td>\n",
       "      <td>828</td>\n",
       "    </tr>\n",
       "    <tr>\n",
       "      <th>3</th>\n",
       "      <td>Bradford</td>\n",
       "      <td>Optical</td>\n",
       "      <td>2</td>\n",
       "      <td>41</td>\n",
       "      <td>695</td>\n",
       "      <td>5414</td>\n",
       "      <td>3075</td>\n",
       "      <td>28</td>\n",
       "      <td>84</td>\n",
       "    </tr>\n",
       "    <tr>\n",
       "      <th>4</th>\n",
       "      <td>Brevard</td>\n",
       "      <td>Optical</td>\n",
       "      <td>1</td>\n",
       "      <td>277</td>\n",
       "      <td>136</td>\n",
       "      <td>115185</td>\n",
       "      <td>97318</td>\n",
       "      <td>643</td>\n",
       "      <td>4470</td>\n",
       "    </tr>\n",
       "  </tbody>\n",
       "</table>\n",
       "</div>"
      ],
      "text/plain": [
       "     county technology  columns  under  over    Bush   Gore  Browne  Nader\n",
       "0   Alachua    Optical        1    217   105   34124  47365     658   3226\n",
       "1     Baker    Optical        1     79    46    5610   2392      17     53\n",
       "2       Bay    Optical        1    541   141   38637  18850     171    828\n",
       "3  Bradford    Optical        2     41   695    5414   3075      28     84\n",
       "4   Brevard    Optical        1    277   136  115185  97318     643   4470"
      ]
     },
     "execution_count": 48,
     "metadata": {},
     "output_type": "execute_result"
    }
   ],
   "source": [
    "# Your code here\n",
    "# https://stackoverflow.com/questions/34682828/pandas-extracting-specific-selected-columns-from-a-dataframe-to-new-dataframe\n",
    "df = df[[\"county\", \"technology\", \"columns\", \"under\", \"over\", \"Bush\", \"Gore\", \"Browne\", \"Nader\"]].copy()\n",
    "df.head()"
   ]
  },
  {
   "cell_type": "markdown",
   "metadata": {},
   "source": [
    "So that we can see the magnitude of the under- and overvotes compared to the total number of votes cast, let's add a column called **All** that contains the sums of the Bush, Gore, Browne, and Nader vote counts. (Hint: once you've identified the columns you want to sum, you can sum them horizontally using sum() method's *axis* parameter.) If you find yourself re-executing your code as you debug it, you may find it handier to use an explicit [start:end] column range rather than an open-ended [start:] range, since adding a column will change the number of columns in the DataFrame each time you execute the cell. Once you've added the new column, show the first few lines of the DataFrame again.\n"
   ]
  },
  {
   "cell_type": "code",
   "execution_count": 49,
   "metadata": {},
   "outputs": [
    {
     "data": {
      "text/html": [
       "<div>\n",
       "<style>\n",
       "    .dataframe thead tr:only-child th {\n",
       "        text-align: right;\n",
       "    }\n",
       "\n",
       "    .dataframe thead th {\n",
       "        text-align: left;\n",
       "    }\n",
       "\n",
       "    .dataframe tbody tr th {\n",
       "        vertical-align: top;\n",
       "    }\n",
       "</style>\n",
       "<table border=\"1\" class=\"dataframe\">\n",
       "  <thead>\n",
       "    <tr style=\"text-align: right;\">\n",
       "      <th></th>\n",
       "      <th>county</th>\n",
       "      <th>technology</th>\n",
       "      <th>columns</th>\n",
       "      <th>under</th>\n",
       "      <th>over</th>\n",
       "      <th>Bush</th>\n",
       "      <th>Gore</th>\n",
       "      <th>Browne</th>\n",
       "      <th>Nader</th>\n",
       "      <th>All</th>\n",
       "    </tr>\n",
       "  </thead>\n",
       "  <tbody>\n",
       "    <tr>\n",
       "      <th>0</th>\n",
       "      <td>Alachua</td>\n",
       "      <td>Optical</td>\n",
       "      <td>1</td>\n",
       "      <td>217</td>\n",
       "      <td>105</td>\n",
       "      <td>34124</td>\n",
       "      <td>47365</td>\n",
       "      <td>658</td>\n",
       "      <td>3226</td>\n",
       "      <td>85373</td>\n",
       "    </tr>\n",
       "    <tr>\n",
       "      <th>1</th>\n",
       "      <td>Baker</td>\n",
       "      <td>Optical</td>\n",
       "      <td>1</td>\n",
       "      <td>79</td>\n",
       "      <td>46</td>\n",
       "      <td>5610</td>\n",
       "      <td>2392</td>\n",
       "      <td>17</td>\n",
       "      <td>53</td>\n",
       "      <td>8072</td>\n",
       "    </tr>\n",
       "    <tr>\n",
       "      <th>2</th>\n",
       "      <td>Bay</td>\n",
       "      <td>Optical</td>\n",
       "      <td>1</td>\n",
       "      <td>541</td>\n",
       "      <td>141</td>\n",
       "      <td>38637</td>\n",
       "      <td>18850</td>\n",
       "      <td>171</td>\n",
       "      <td>828</td>\n",
       "      <td>58486</td>\n",
       "    </tr>\n",
       "    <tr>\n",
       "      <th>3</th>\n",
       "      <td>Bradford</td>\n",
       "      <td>Optical</td>\n",
       "      <td>2</td>\n",
       "      <td>41</td>\n",
       "      <td>695</td>\n",
       "      <td>5414</td>\n",
       "      <td>3075</td>\n",
       "      <td>28</td>\n",
       "      <td>84</td>\n",
       "      <td>8601</td>\n",
       "    </tr>\n",
       "    <tr>\n",
       "      <th>4</th>\n",
       "      <td>Brevard</td>\n",
       "      <td>Optical</td>\n",
       "      <td>1</td>\n",
       "      <td>277</td>\n",
       "      <td>136</td>\n",
       "      <td>115185</td>\n",
       "      <td>97318</td>\n",
       "      <td>643</td>\n",
       "      <td>4470</td>\n",
       "      <td>217616</td>\n",
       "    </tr>\n",
       "  </tbody>\n",
       "</table>\n",
       "</div>"
      ],
      "text/plain": [
       "     county technology  columns  under  over    Bush   Gore  Browne  Nader  \\\n",
       "0   Alachua    Optical        1    217   105   34124  47365     658   3226   \n",
       "1     Baker    Optical        1     79    46    5610   2392      17     53   \n",
       "2       Bay    Optical        1    541   141   38637  18850     171    828   \n",
       "3  Bradford    Optical        2     41   695    5414   3075      28     84   \n",
       "4   Brevard    Optical        1    277   136  115185  97318     643   4470   \n",
       "\n",
       "      All  \n",
       "0   85373  \n",
       "1    8072  \n",
       "2   58486  \n",
       "3    8601  \n",
       "4  217616  "
      ]
     },
     "execution_count": 49,
     "metadata": {},
     "output_type": "execute_result"
    }
   ],
   "source": [
    "# Your code here\n",
    "# https://stackoverflow.com/questions/25748683/pandas-sum-dataframe-rows-for-given-columns\n",
    "df['All'] = df[[\"Bush\", \"Gore\", \"Browne\", \"Nader\"]].sum(axis = 1)\n",
    "df.head()"
   ]
  },
  {
   "cell_type": "markdown",
   "metadata": {},
   "source": [
    "We're almost there! Let's add 2 columns called **pct_under** and **pct_over** that show the percentages of the under- and overcounts, relative to the 'All' column. (Hint: these two lines will each just involve taking a column of the DataFrame, multiplying by 100 and dividing by another column.) "
   ]
  },
  {
   "cell_type": "code",
   "execution_count": 50,
   "metadata": {},
   "outputs": [
    {
     "data": {
      "text/html": [
       "<div>\n",
       "<style>\n",
       "    .dataframe thead tr:only-child th {\n",
       "        text-align: right;\n",
       "    }\n",
       "\n",
       "    .dataframe thead th {\n",
       "        text-align: left;\n",
       "    }\n",
       "\n",
       "    .dataframe tbody tr th {\n",
       "        vertical-align: top;\n",
       "    }\n",
       "</style>\n",
       "<table border=\"1\" class=\"dataframe\">\n",
       "  <thead>\n",
       "    <tr style=\"text-align: right;\">\n",
       "      <th></th>\n",
       "      <th>county</th>\n",
       "      <th>technology</th>\n",
       "      <th>columns</th>\n",
       "      <th>under</th>\n",
       "      <th>over</th>\n",
       "      <th>Bush</th>\n",
       "      <th>Gore</th>\n",
       "      <th>Browne</th>\n",
       "      <th>Nader</th>\n",
       "      <th>All</th>\n",
       "      <th>pct_over</th>\n",
       "      <th>pct_under</th>\n",
       "    </tr>\n",
       "  </thead>\n",
       "  <tbody>\n",
       "    <tr>\n",
       "      <th>0</th>\n",
       "      <td>Alachua</td>\n",
       "      <td>Optical</td>\n",
       "      <td>1</td>\n",
       "      <td>217</td>\n",
       "      <td>105</td>\n",
       "      <td>34124</td>\n",
       "      <td>47365</td>\n",
       "      <td>658</td>\n",
       "      <td>3226</td>\n",
       "      <td>85373</td>\n",
       "      <td>0.122990</td>\n",
       "      <td>0.254179</td>\n",
       "    </tr>\n",
       "    <tr>\n",
       "      <th>1</th>\n",
       "      <td>Baker</td>\n",
       "      <td>Optical</td>\n",
       "      <td>1</td>\n",
       "      <td>79</td>\n",
       "      <td>46</td>\n",
       "      <td>5610</td>\n",
       "      <td>2392</td>\n",
       "      <td>17</td>\n",
       "      <td>53</td>\n",
       "      <td>8072</td>\n",
       "      <td>0.569871</td>\n",
       "      <td>0.978692</td>\n",
       "    </tr>\n",
       "    <tr>\n",
       "      <th>2</th>\n",
       "      <td>Bay</td>\n",
       "      <td>Optical</td>\n",
       "      <td>1</td>\n",
       "      <td>541</td>\n",
       "      <td>141</td>\n",
       "      <td>38637</td>\n",
       "      <td>18850</td>\n",
       "      <td>171</td>\n",
       "      <td>828</td>\n",
       "      <td>58486</td>\n",
       "      <td>0.241083</td>\n",
       "      <td>0.925008</td>\n",
       "    </tr>\n",
       "    <tr>\n",
       "      <th>3</th>\n",
       "      <td>Bradford</td>\n",
       "      <td>Optical</td>\n",
       "      <td>2</td>\n",
       "      <td>41</td>\n",
       "      <td>695</td>\n",
       "      <td>5414</td>\n",
       "      <td>3075</td>\n",
       "      <td>28</td>\n",
       "      <td>84</td>\n",
       "      <td>8601</td>\n",
       "      <td>8.080456</td>\n",
       "      <td>0.476689</td>\n",
       "    </tr>\n",
       "    <tr>\n",
       "      <th>4</th>\n",
       "      <td>Brevard</td>\n",
       "      <td>Optical</td>\n",
       "      <td>1</td>\n",
       "      <td>277</td>\n",
       "      <td>136</td>\n",
       "      <td>115185</td>\n",
       "      <td>97318</td>\n",
       "      <td>643</td>\n",
       "      <td>4470</td>\n",
       "      <td>217616</td>\n",
       "      <td>0.062495</td>\n",
       "      <td>0.127288</td>\n",
       "    </tr>\n",
       "  </tbody>\n",
       "</table>\n",
       "</div>"
      ],
      "text/plain": [
       "     county technology  columns  under  over    Bush   Gore  Browne  Nader  \\\n",
       "0   Alachua    Optical        1    217   105   34124  47365     658   3226   \n",
       "1     Baker    Optical        1     79    46    5610   2392      17     53   \n",
       "2       Bay    Optical        1    541   141   38637  18850     171    828   \n",
       "3  Bradford    Optical        2     41   695    5414   3075      28     84   \n",
       "4   Brevard    Optical        1    277   136  115185  97318     643   4470   \n",
       "\n",
       "      All  pct_over  pct_under  \n",
       "0   85373  0.122990   0.254179  \n",
       "1    8072  0.569871   0.978692  \n",
       "2   58486  0.241083   0.925008  \n",
       "3    8601  8.080456   0.476689  \n",
       "4  217616  0.062495   0.127288  "
      ]
     },
     "execution_count": 50,
     "metadata": {},
     "output_type": "execute_result"
    }
   ],
   "source": [
    "# Your code here\n",
    "df['pct_over'] = (df[\"over\"] / df[\"All\"])*100\n",
    "df['pct_under'] = (df[\"under\"] / df[\"All\"])*100\n",
    "df.head()"
   ]
  },
  {
   "cell_type": "markdown",
   "metadata": {},
   "source": [
    "Lastly, let's build a pivot table that shows the total vote counts (the 'All' column) and the percentages of under- and overvotes across the entire state, broken down by voting machine technology and then ballot format (columns). The goal here is to see if anything jumps out at us that might indicate whether certain technologies or ballot types were more problematic than others. (Hints: your pivot table will have two indexes and three values. You will need to use different aggregation functions for the individual columns, since one is a sum and the other two are percentages.)"
   ]
  },
  {
   "cell_type": "code",
   "execution_count": 52,
   "metadata": {},
   "outputs": [
    {
     "data": {
      "text/html": [
       "<div>\n",
       "<style>\n",
       "    .dataframe thead tr:only-child th {\n",
       "        text-align: right;\n",
       "    }\n",
       "\n",
       "    .dataframe thead th {\n",
       "        text-align: left;\n",
       "    }\n",
       "\n",
       "    .dataframe tbody tr th {\n",
       "        vertical-align: top;\n",
       "    }\n",
       "</style>\n",
       "<table border=\"1\" class=\"dataframe\">\n",
       "  <thead>\n",
       "    <tr style=\"text-align: right;\">\n",
       "      <th></th>\n",
       "      <th></th>\n",
       "      <th>All</th>\n",
       "      <th>pct_over</th>\n",
       "      <th>pct_under</th>\n",
       "    </tr>\n",
       "    <tr>\n",
       "      <th>technology</th>\n",
       "      <th>columns</th>\n",
       "      <th></th>\n",
       "      <th></th>\n",
       "      <th></th>\n",
       "    </tr>\n",
       "  </thead>\n",
       "  <tbody>\n",
       "    <tr>\n",
       "      <th rowspan=\"2\" valign=\"top\">Datavote</th>\n",
       "      <th>1</th>\n",
       "      <td>39798</td>\n",
       "      <td>6.565091</td>\n",
       "      <td>0.907531</td>\n",
       "    </tr>\n",
       "    <tr>\n",
       "      <th>2</th>\n",
       "      <td>31428</td>\n",
       "      <td>6.396980</td>\n",
       "      <td>0.841580</td>\n",
       "    </tr>\n",
       "    <tr>\n",
       "      <th>Hand</th>\n",
       "      <th>2</th>\n",
       "      <td>3787</td>\n",
       "      <td>6.152627</td>\n",
       "      <td>0.660153</td>\n",
       "    </tr>\n",
       "    <tr>\n",
       "      <th>Lever</th>\n",
       "      <th>1</th>\n",
       "      <td>61817</td>\n",
       "      <td>0.090590</td>\n",
       "      <td>0.286329</td>\n",
       "    </tr>\n",
       "    <tr>\n",
       "      <th rowspan=\"2\" valign=\"top\">Optical</th>\n",
       "      <th>1</th>\n",
       "      <td>2135311</td>\n",
       "      <td>0.637282</td>\n",
       "      <td>0.568467</td>\n",
       "    </tr>\n",
       "    <tr>\n",
       "      <th>2</th>\n",
       "      <td>175151</td>\n",
       "      <td>7.477317</td>\n",
       "      <td>0.724399</td>\n",
       "    </tr>\n",
       "    <tr>\n",
       "      <th rowspan=\"2\" valign=\"top\">Votomatic</th>\n",
       "      <th>1</th>\n",
       "      <td>2796511</td>\n",
       "      <td>1.356059</td>\n",
       "      <td>1.576198</td>\n",
       "    </tr>\n",
       "    <tr>\n",
       "      <th>2</th>\n",
       "      <td>692662</td>\n",
       "      <td>6.384276</td>\n",
       "      <td>2.146362</td>\n",
       "    </tr>\n",
       "  </tbody>\n",
       "</table>\n",
       "</div>"
      ],
      "text/plain": [
       "                        All  pct_over  pct_under\n",
       "technology columns                              \n",
       "Datavote   1          39798  6.565091   0.907531\n",
       "           2          31428  6.396980   0.841580\n",
       "Hand       2           3787  6.152627   0.660153\n",
       "Lever      1          61817  0.090590   0.286329\n",
       "Optical    1        2135311  0.637282   0.568467\n",
       "           2         175151  7.477317   0.724399\n",
       "Votomatic  1        2796511  1.356059   1.576198\n",
       "           2         692662  6.384276   2.146362"
      ]
     },
     "execution_count": 52,
     "metadata": {},
     "output_type": "execute_result"
    }
   ],
   "source": [
    "# Your code here\n",
    "df.pivot_table(values = [\"All\", \"pct_over\", \"pct_under\"], index = [\"technology\", \"columns\"], aggfunc = {\"All\": \"sum\", \"pct_over\": \"mean\", \"pct_under\": \"mean\"})"
   ]
  },
  {
   "cell_type": "markdown",
   "metadata": {},
   "source": [
    "What preliminary conclusions might you draw from the various percentage values? It may be significant that the 2-column ballot format appears to higher percentages of under- and overvotes when used with any technology. On the other hand, the Datavote technology appears to have an even higher percentage of under- and overvotes with a 1-column ballot format. (There's no right or wrong answer here. We're not going to attempt any more sophisticated statistical analysis here -- we've done enough work for one day!)"
   ]
  },
  {
   "cell_type": "markdown",
   "metadata": {},
   "source": [
    "Note: an annotated version of this dataset, with some comments by its author, is available here: http://hci.stanford.edu/courses/cs448b/data/florida-voting/fl2000.txt"
   ]
  },
  {
   "cell_type": "code",
   "execution_count": null,
   "metadata": {
    "collapsed": true
   },
   "outputs": [],
   "source": []
  },
  {
   "cell_type": "markdown",
   "metadata": {},
   "source": [
    "## Problem 3: \n",
    "### Created by: Kaleigh\n",
    "### Undergraduate 2.5 points Graduate 2 points"
   ]
  },
  {
   "cell_type": "markdown",
   "metadata": {},
   "source": [
    "# Olympic Games - Summer and Winter\n",
    "\n",
    "In this problem, we are exploring the olympic games records from both the winter and summer olympics. (The winter.csv file is the same as the file we used in Problem Set # 2.)  \n",
    "Source: https://www.kaggle.com/the-guardian/olympic-games/data\n"
   ]
  },
  {
   "cell_type": "code",
   "execution_count": 54,
   "metadata": {
    "collapsed": true
   },
   "outputs": [],
   "source": [
    "#Imports\n",
    "import numpy as np\n",
    "import pandas as pd"
   ]
  },
  {
   "cell_type": "markdown",
   "metadata": {},
   "source": [
    "## 1) Load Datasets  \n",
    "\n",
    "- Load the \"winter.csv\" file as a pandas dataframe.  \n",
    "- Load the \"summer.csv\" file as a pandas dataframe.  \n",
    "- Display the **first 5** rows of the winter dataframe.  \n",
    "- Display the **first 5** rows of the summer dataframe."
   ]
  },
  {
   "cell_type": "code",
   "execution_count": 56,
   "metadata": {},
   "outputs": [
    {
     "data": {
      "text/html": [
       "<div>\n",
       "<style>\n",
       "    .dataframe thead tr:only-child th {\n",
       "        text-align: right;\n",
       "    }\n",
       "\n",
       "    .dataframe thead th {\n",
       "        text-align: left;\n",
       "    }\n",
       "\n",
       "    .dataframe tbody tr th {\n",
       "        vertical-align: top;\n",
       "    }\n",
       "</style>\n",
       "<table border=\"1\" class=\"dataframe\">\n",
       "  <thead>\n",
       "    <tr style=\"text-align: right;\">\n",
       "      <th></th>\n",
       "      <th>Year</th>\n",
       "      <th>City</th>\n",
       "      <th>Sport</th>\n",
       "      <th>Discipline</th>\n",
       "      <th>Athlete</th>\n",
       "      <th>Country</th>\n",
       "      <th>Gender</th>\n",
       "      <th>Event</th>\n",
       "      <th>Medal</th>\n",
       "    </tr>\n",
       "  </thead>\n",
       "  <tbody>\n",
       "    <tr>\n",
       "      <th>0</th>\n",
       "      <td>1924</td>\n",
       "      <td>Chamonix</td>\n",
       "      <td>Biathlon</td>\n",
       "      <td>Biathlon</td>\n",
       "      <td>BERTHET, G.</td>\n",
       "      <td>FRA</td>\n",
       "      <td>Men</td>\n",
       "      <td>Military Patrol</td>\n",
       "      <td>Bronze</td>\n",
       "    </tr>\n",
       "    <tr>\n",
       "      <th>1</th>\n",
       "      <td>1924</td>\n",
       "      <td>Chamonix</td>\n",
       "      <td>Biathlon</td>\n",
       "      <td>Biathlon</td>\n",
       "      <td>MANDRILLON, C.</td>\n",
       "      <td>FRA</td>\n",
       "      <td>Men</td>\n",
       "      <td>Military Patrol</td>\n",
       "      <td>Bronze</td>\n",
       "    </tr>\n",
       "    <tr>\n",
       "      <th>2</th>\n",
       "      <td>1924</td>\n",
       "      <td>Chamonix</td>\n",
       "      <td>Biathlon</td>\n",
       "      <td>Biathlon</td>\n",
       "      <td>MANDRILLON, Maurice</td>\n",
       "      <td>FRA</td>\n",
       "      <td>Men</td>\n",
       "      <td>Military Patrol</td>\n",
       "      <td>Bronze</td>\n",
       "    </tr>\n",
       "    <tr>\n",
       "      <th>3</th>\n",
       "      <td>1924</td>\n",
       "      <td>Chamonix</td>\n",
       "      <td>Biathlon</td>\n",
       "      <td>Biathlon</td>\n",
       "      <td>VANDELLE, André</td>\n",
       "      <td>FRA</td>\n",
       "      <td>Men</td>\n",
       "      <td>Military Patrol</td>\n",
       "      <td>Bronze</td>\n",
       "    </tr>\n",
       "    <tr>\n",
       "      <th>4</th>\n",
       "      <td>1924</td>\n",
       "      <td>Chamonix</td>\n",
       "      <td>Biathlon</td>\n",
       "      <td>Biathlon</td>\n",
       "      <td>AUFDENBLATTEN, Adolf</td>\n",
       "      <td>SUI</td>\n",
       "      <td>Men</td>\n",
       "      <td>Military Patrol</td>\n",
       "      <td>Gold</td>\n",
       "    </tr>\n",
       "  </tbody>\n",
       "</table>\n",
       "</div>"
      ],
      "text/plain": [
       "   Year      City     Sport Discipline               Athlete Country Gender  \\\n",
       "0  1924  Chamonix  Biathlon   Biathlon           BERTHET, G.     FRA    Men   \n",
       "1  1924  Chamonix  Biathlon   Biathlon        MANDRILLON, C.     FRA    Men   \n",
       "2  1924  Chamonix  Biathlon   Biathlon   MANDRILLON, Maurice     FRA    Men   \n",
       "3  1924  Chamonix  Biathlon   Biathlon       VANDELLE, André     FRA    Men   \n",
       "4  1924  Chamonix  Biathlon   Biathlon  AUFDENBLATTEN, Adolf     SUI    Men   \n",
       "\n",
       "             Event   Medal  \n",
       "0  Military Patrol  Bronze  \n",
       "1  Military Patrol  Bronze  \n",
       "2  Military Patrol  Bronze  \n",
       "3  Military Patrol  Bronze  \n",
       "4  Military Patrol    Gold  "
      ]
     },
     "execution_count": 56,
     "metadata": {},
     "output_type": "execute_result"
    }
   ],
   "source": [
    "# Your Code Here\n",
    "\n",
    "winter = pd.read_csv(\"winter.csv\")\n",
    "summer = pd.read_csv(\"summer.csv\")\n",
    "\n",
    "winter.head()\n"
   ]
  },
  {
   "cell_type": "code",
   "execution_count": 57,
   "metadata": {},
   "outputs": [
    {
     "data": {
      "text/html": [
       "<div>\n",
       "<style>\n",
       "    .dataframe thead tr:only-child th {\n",
       "        text-align: right;\n",
       "    }\n",
       "\n",
       "    .dataframe thead th {\n",
       "        text-align: left;\n",
       "    }\n",
       "\n",
       "    .dataframe tbody tr th {\n",
       "        vertical-align: top;\n",
       "    }\n",
       "</style>\n",
       "<table border=\"1\" class=\"dataframe\">\n",
       "  <thead>\n",
       "    <tr style=\"text-align: right;\">\n",
       "      <th></th>\n",
       "      <th>Year</th>\n",
       "      <th>City</th>\n",
       "      <th>Sport</th>\n",
       "      <th>Discipline</th>\n",
       "      <th>Athlete</th>\n",
       "      <th>Country</th>\n",
       "      <th>Gender</th>\n",
       "      <th>Event</th>\n",
       "      <th>Medal</th>\n",
       "    </tr>\n",
       "  </thead>\n",
       "  <tbody>\n",
       "    <tr>\n",
       "      <th>0</th>\n",
       "      <td>1896</td>\n",
       "      <td>Athens</td>\n",
       "      <td>Aquatics</td>\n",
       "      <td>Swimming</td>\n",
       "      <td>HAJOS, Alfred</td>\n",
       "      <td>HUN</td>\n",
       "      <td>Men</td>\n",
       "      <td>100M Freestyle</td>\n",
       "      <td>Gold</td>\n",
       "    </tr>\n",
       "    <tr>\n",
       "      <th>1</th>\n",
       "      <td>1896</td>\n",
       "      <td>Athens</td>\n",
       "      <td>Aquatics</td>\n",
       "      <td>Swimming</td>\n",
       "      <td>HERSCHMANN, Otto</td>\n",
       "      <td>AUT</td>\n",
       "      <td>Men</td>\n",
       "      <td>100M Freestyle</td>\n",
       "      <td>Silver</td>\n",
       "    </tr>\n",
       "    <tr>\n",
       "      <th>2</th>\n",
       "      <td>1896</td>\n",
       "      <td>Athens</td>\n",
       "      <td>Aquatics</td>\n",
       "      <td>Swimming</td>\n",
       "      <td>DRIVAS, Dimitrios</td>\n",
       "      <td>GRE</td>\n",
       "      <td>Men</td>\n",
       "      <td>100M Freestyle For Sailors</td>\n",
       "      <td>Bronze</td>\n",
       "    </tr>\n",
       "    <tr>\n",
       "      <th>3</th>\n",
       "      <td>1896</td>\n",
       "      <td>Athens</td>\n",
       "      <td>Aquatics</td>\n",
       "      <td>Swimming</td>\n",
       "      <td>MALOKINIS, Ioannis</td>\n",
       "      <td>GRE</td>\n",
       "      <td>Men</td>\n",
       "      <td>100M Freestyle For Sailors</td>\n",
       "      <td>Gold</td>\n",
       "    </tr>\n",
       "    <tr>\n",
       "      <th>4</th>\n",
       "      <td>1896</td>\n",
       "      <td>Athens</td>\n",
       "      <td>Aquatics</td>\n",
       "      <td>Swimming</td>\n",
       "      <td>CHASAPIS, Spiridon</td>\n",
       "      <td>GRE</td>\n",
       "      <td>Men</td>\n",
       "      <td>100M Freestyle For Sailors</td>\n",
       "      <td>Silver</td>\n",
       "    </tr>\n",
       "  </tbody>\n",
       "</table>\n",
       "</div>"
      ],
      "text/plain": [
       "   Year    City     Sport Discipline             Athlete Country Gender  \\\n",
       "0  1896  Athens  Aquatics   Swimming       HAJOS, Alfred     HUN    Men   \n",
       "1  1896  Athens  Aquatics   Swimming    HERSCHMANN, Otto     AUT    Men   \n",
       "2  1896  Athens  Aquatics   Swimming   DRIVAS, Dimitrios     GRE    Men   \n",
       "3  1896  Athens  Aquatics   Swimming  MALOKINIS, Ioannis     GRE    Men   \n",
       "4  1896  Athens  Aquatics   Swimming  CHASAPIS, Spiridon     GRE    Men   \n",
       "\n",
       "                        Event   Medal  \n",
       "0              100M Freestyle    Gold  \n",
       "1              100M Freestyle  Silver  \n",
       "2  100M Freestyle For Sailors  Bronze  \n",
       "3  100M Freestyle For Sailors    Gold  \n",
       "4  100M Freestyle For Sailors  Silver  "
      ]
     },
     "execution_count": 57,
     "metadata": {},
     "output_type": "execute_result"
    }
   ],
   "source": [
    "summer.head()"
   ]
  },
  {
   "cell_type": "markdown",
   "metadata": {},
   "source": [
    "## 2) Merge Data\n",
    "### 2.1) Add \"Season\" Column To Each Dataframe  \n",
    "- For your winter dataframe, add a column with the heading \"Season\" where every value is \"Winter\"\n",
    "- For your summer dataframe, add a column with the heading \"Season\" where every value is \"Summer\""
   ]
  },
  {
   "cell_type": "code",
   "execution_count": 59,
   "metadata": {},
   "outputs": [],
   "source": [
    "# Your Code Here\n",
    "winter[\"Season\"] = \"Winter\"\n",
    "summer[\"Season\"] = \"Summer\""
   ]
  },
  {
   "cell_type": "markdown",
   "metadata": {},
   "source": [
    "### 2.2) Merge The Winter And Summer Dataframes"
   ]
  },
  {
   "cell_type": "code",
   "execution_count": 60,
   "metadata": {},
   "outputs": [
    {
     "data": {
      "text/html": [
       "<div>\n",
       "<style>\n",
       "    .dataframe thead tr:only-child th {\n",
       "        text-align: right;\n",
       "    }\n",
       "\n",
       "    .dataframe thead th {\n",
       "        text-align: left;\n",
       "    }\n",
       "\n",
       "    .dataframe tbody tr th {\n",
       "        vertical-align: top;\n",
       "    }\n",
       "</style>\n",
       "<table border=\"1\" class=\"dataframe\">\n",
       "  <thead>\n",
       "    <tr style=\"text-align: right;\">\n",
       "      <th></th>\n",
       "      <th>Year</th>\n",
       "      <th>City</th>\n",
       "      <th>Sport</th>\n",
       "      <th>Discipline</th>\n",
       "      <th>Athlete</th>\n",
       "      <th>Country</th>\n",
       "      <th>Gender</th>\n",
       "      <th>Event</th>\n",
       "      <th>Medal</th>\n",
       "      <th>Season</th>\n",
       "    </tr>\n",
       "  </thead>\n",
       "  <tbody>\n",
       "  </tbody>\n",
       "</table>\n",
       "</div>"
      ],
      "text/plain": [
       "Empty DataFrame\n",
       "Columns: [Year, City, Sport, Discipline, Athlete, Country, Gender, Event, Medal, Season]\n",
       "Index: []"
      ]
     },
     "execution_count": 60,
     "metadata": {},
     "output_type": "execute_result"
    }
   ],
   "source": [
    "# Your Code Here\n",
    "\n",
    "olympics = pd.merge(winter, summer, on = \"Sport\")\n",
    "olympics.head()\n",
    "\n"
   ]
  },
  {
   "cell_type": "markdown",
   "metadata": {},
   "source": [
    "## 3) Clean Up Data\n",
    "### 3.1) Remove Rows with Null Values  \n",
    "In PSET 2, we confirmed there are no null values in the winter.csv dataset, however there are a few null values from the summer.csv dataset.  \n",
    "Drop all rows with null values in your dataframe from Part 2.2."
   ]
  },
  {
   "cell_type": "code",
   "execution_count": null,
   "metadata": {
    "collapsed": true,
    "scrolled": true
   },
   "outputs": [],
   "source": [
    "# Your Code Here\n"
   ]
  },
  {
   "cell_type": "markdown",
   "metadata": {},
   "source": [
    "### 3.2) Remove Team Sport Bias  \n",
    "This dataset includes every medal awarded to every individual athlete.  In team events, each medal (gold, silver and bronze) are awarded to multiple athletes.  (For example, the winning ice hockey team would receive ~20 gold medals.) In order to focus on the number of events a country has medaled in, rather than the number of athletes that have received medals, we're going to remove all \"duplicate\" medals from the same event.  \n",
    "\n",
    "We'll do this by first dropping the 'Athlete' column and then removing all duplicate rows."
   ]
  },
  {
   "cell_type": "code",
   "execution_count": null,
   "metadata": {
    "collapsed": true
   },
   "outputs": [],
   "source": [
    "# Drop the 'Athlete' Column\n",
    "# Your Code Here\n",
    "\n",
    "\n",
    "\n",
    "# Drop Duplcate Rows\n",
    "# Your Code Here\n",
    "\n"
   ]
  },
  {
   "cell_type": "markdown",
   "metadata": {},
   "source": [
    "## 4) How Many Gold Medals Has Jamaica Won in Athletics?   \n",
    "### 4.1) Create a pivot table using the 'Country' and 'Sport' columns as indices and Medal (Gold, Silver, Bronze) as the table's columns.   The table's values will be the medal count for that particular country/sport/medal color.\n",
    "\n",
    "**Display the head of the pivot table.**  \n",
    "Note: Use the dataframe from Part 3.  \n",
    "Note: The order of the Gold, Silver, Bronze columns does not matter.  \n",
    "Hint: use fill_value = 0.  \n",
    "\n",
    "Hint: The first three rows of your pivot table should look something like the following:  \n",
    "\n",
    "    |        | Medal     | Bronze | Gold | Silver |  \n",
    "    |Country | Sport     |        |      |        |  \n",
    "    |AFG     | Taekwondo |   2    |   0  |    0   |  \n"
   ]
  },
  {
   "cell_type": "code",
   "execution_count": null,
   "metadata": {
    "collapsed": true
   },
   "outputs": [],
   "source": [
    "# Your Code Here\n"
   ]
  },
  {
   "cell_type": "markdown",
   "metadata": {},
   "source": [
    "### 4.2) Access the pivot table to find the total number of Gold Medals that Jamaica (country code 'JAM') has won in the 'Athletics' Sport."
   ]
  },
  {
   "cell_type": "code",
   "execution_count": null,
   "metadata": {
    "collapsed": true
   },
   "outputs": [],
   "source": [
    "# Your Code Here\n"
   ]
  },
  {
   "cell_type": "markdown",
   "metadata": {},
   "source": [
    "## 5) Medal Counts Per Olympic Season\n",
    "### 5.1) Create a pivot table using the 'Country' column as the table's index and the Seasons (Summer and Winter) as the table's columns.  The table's values will be the medal count for that particular country/season.\n",
    "\n",
    "**Display the head of the pivot table.**  \n",
    "Note: Use the dataframe from Part 3.  \n",
    "Hint: use fill_value = 0.  \n",
    "\n",
    "Hint: The first three rows of your pivot table should look something like the following:  \n",
    "\n",
    "    |Season  | Summer | Winter |\n",
    "    |Country |        |        | \n",
    "    |AFG     | 2      |   0    | "
   ]
  },
  {
   "cell_type": "code",
   "execution_count": null,
   "metadata": {
    "collapsed": true,
    "scrolled": true
   },
   "outputs": [],
   "source": [
    "# Your Code Here\n"
   ]
  },
  {
   "cell_type": "markdown",
   "metadata": {
    "hideCode": true
   },
   "source": [
    "### 5.2) Display a plot of the pivot table from part 5.1. The plot should be a stacked horizontal bar graph, with the medal count on the x axis and the country codes on the y axis.  (Don't worry about plot titles/labels).     "
   ]
  },
  {
   "cell_type": "code",
   "execution_count": null,
   "metadata": {
    "collapsed": true,
    "scrolled": true
   },
   "outputs": [],
   "source": [
    "# Your Code Here\n"
   ]
  },
  {
   "cell_type": "markdown",
   "metadata": {},
   "source": [
    "## Problem 4: \n",
    "### Created by: Alan\n",
    "### Undergraduate 2.5 points Graduate 2 points"
   ]
  },
  {
   "cell_type": "markdown",
   "metadata": {},
   "source": [
    "# Developing a Single-Game Win Model for the NBA (Part 1)\n",
    "\n",
    "### Problem by Alan"
   ]
  },
  {
   "cell_type": "markdown",
   "metadata": {},
   "source": [
    "Any basketball fans out here? (Personally, I'm more of an NFL kind of guy. How 'bout them Cowboys!) Nonetheless, get ready for some NBA excitement!\n",
    "\n",
    "This problem (and its follow-ups in future problem sets) will take us from 0 to 1 in building a rudimentary model that can predict the likelihood of a team winning any single game during the NBA regular season. \n",
    "\n",
    "This week, we'll primarily focus on data exploration through the use of pivot tables. We'll also reinforce some of the DataFrame slicing and indexing concepts that we learned about last week. \n",
    "\n",
    "#### Step 1: Scrape and clean the data\n",
    "\n",
    "Luckily, I've already gone to the trouble of collecting this data for you. (If you're curious, I collected the data by creating a local fork of [this existing API](https://github.com/jaebradley/basketball_reference_web_scraper) which scrapes the website [Basketball Reference](https://www.basketball-reference.com). Then, I rewrote the API to work again - the code on GitHub no longer functions and also relies on more outdated methods of web scraping such as the `urllib2` and `lxml` libraries instead of `requests` and `BeautifulSoup`.)"
   ]
  },
  {
   "cell_type": "markdown",
   "metadata": {},
   "source": [
    "#### Step 2: Explore the data\n",
    "\n",
    "This is an important step for us to eventually build a predictive model. We need to understand what our data looks like and what additional processing (if any) we might need to do in order to generate features for our model. I've provided you with three files: `2012_2017_box_scores.csv`, `2012_2017_schedules.csv`, and `2012_2017_season_player_stats.csv`. As you can see, the data provided is for the NBA regular season for a 6-year period between 2012 and 2017. (If you're wondering why the cut-off was somewhat arbitrarily decided to be 2012, that's because the 2011-2012 season was cut short by a player lockout.)\n",
    "\n",
    "Let's get started by reading in our data using `pd.read_csv()`. Note that you might end up with an extra column if you don't pass in a value for the optional parameter `index_col`. This is because these files were previously created by `pd.to_csv()`, which by default exports a DataFrame's index as a regular column. The `index_col` parameter will allow us to read that column as the index, and our DataFrame will look normal again. This is especially useful for datasets with irregular indices!"
   ]
  },
  {
   "cell_type": "code",
   "execution_count": null,
   "metadata": {
    "collapsed": true
   },
   "outputs": [],
   "source": [
    "import pandas as pd\n",
    "import numpy as np"
   ]
  },
  {
   "cell_type": "code",
   "execution_count": 70,
   "metadata": {
    "scrolled": true
   },
   "outputs": [],
   "source": [
    "# YOUR CODE HERE\n",
    "# https://stackoverflow.com/questions/12960574/pandas-read-csv-index-col-none-not-working\n",
    "box_scores = pd.read_csv(\"2012_2017_box_scores.csv\", index_col = 0)\n",
    "schedules = pd.read_csv(\"2012_2017_schedules.csv\", index_col = 0)\n",
    "player_stats = pd.read_csv(\"2012_2017_season_player_stats.csv\", index_col = 0)\n"
   ]
  },
  {
   "cell_type": "code",
   "execution_count": 73,
   "metadata": {},
   "outputs": [
    {
     "name": "stdout",
     "output_type": "stream",
     "text": [
      "(138548, 22)\n",
      "(6569, 5)\n",
      "(3261, 25)\n"
     ]
    }
   ],
   "source": [
    "print(box_scores.shape)\n",
    "print(schedules.shape)\n",
    "print(player_stats.shape)"
   ]
  },
  {
   "cell_type": "code",
   "execution_count": 74,
   "metadata": {},
   "outputs": [
    {
     "data": {
      "text/html": [
       "<div>\n",
       "<style>\n",
       "    .dataframe thead tr:only-child th {\n",
       "        text-align: right;\n",
       "    }\n",
       "\n",
       "    .dataframe thead th {\n",
       "        text-align: left;\n",
       "    }\n",
       "\n",
       "    .dataframe tbody tr th {\n",
       "        vertical-align: top;\n",
       "    }\n",
       "</style>\n",
       "<table border=\"1\" class=\"dataframe\">\n",
       "  <thead>\n",
       "    <tr style=\"text-align: right;\">\n",
       "      <th></th>\n",
       "      <th>assists</th>\n",
       "      <th>blocks</th>\n",
       "      <th>date</th>\n",
       "      <th>defensive_rebounds</th>\n",
       "      <th>field_goal_attempts</th>\n",
       "      <th>field_goals</th>\n",
       "      <th>first_name</th>\n",
       "      <th>free_throw_attempts</th>\n",
       "      <th>free_throws</th>\n",
       "      <th>is_home</th>\n",
       "      <th>...</th>\n",
       "      <th>opponent</th>\n",
       "      <th>personal_fouls</th>\n",
       "      <th>points</th>\n",
       "      <th>seconds_played</th>\n",
       "      <th>steals</th>\n",
       "      <th>team</th>\n",
       "      <th>three_point_field_goal_attempts</th>\n",
       "      <th>three_point_field_goals</th>\n",
       "      <th>total_rebounds</th>\n",
       "      <th>turnovers</th>\n",
       "    </tr>\n",
       "  </thead>\n",
       "  <tbody>\n",
       "    <tr>\n",
       "      <th>0</th>\n",
       "      <td>3</td>\n",
       "      <td>0</td>\n",
       "      <td>2012-10-30</td>\n",
       "      <td>9</td>\n",
       "      <td>16</td>\n",
       "      <td>10</td>\n",
       "      <td>LeBron</td>\n",
       "      <td>5</td>\n",
       "      <td>4</td>\n",
       "      <td>True</td>\n",
       "      <td>...</td>\n",
       "      <td>BOS</td>\n",
       "      <td>2</td>\n",
       "      <td>26</td>\n",
       "      <td>1732.0</td>\n",
       "      <td>2</td>\n",
       "      <td>MIA</td>\n",
       "      <td>4</td>\n",
       "      <td>2</td>\n",
       "      <td>10</td>\n",
       "      <td>0</td>\n",
       "    </tr>\n",
       "    <tr>\n",
       "      <th>1</th>\n",
       "      <td>9</td>\n",
       "      <td>2</td>\n",
       "      <td>2012-10-30</td>\n",
       "      <td>11</td>\n",
       "      <td>7</td>\n",
       "      <td>3</td>\n",
       "      <td>Anderson</td>\n",
       "      <td>3</td>\n",
       "      <td>3</td>\n",
       "      <td>True</td>\n",
       "      <td>...</td>\n",
       "      <td>WAS</td>\n",
       "      <td>4</td>\n",
       "      <td>9</td>\n",
       "      <td>2242.0</td>\n",
       "      <td>0</td>\n",
       "      <td>CLE</td>\n",
       "      <td>0</td>\n",
       "      <td>0</td>\n",
       "      <td>23</td>\n",
       "      <td>1</td>\n",
       "    </tr>\n",
       "    <tr>\n",
       "      <th>2</th>\n",
       "      <td>6</td>\n",
       "      <td>3</td>\n",
       "      <td>2012-10-30</td>\n",
       "      <td>9</td>\n",
       "      <td>19</td>\n",
       "      <td>8</td>\n",
       "      <td>Pau</td>\n",
       "      <td>8</td>\n",
       "      <td>6</td>\n",
       "      <td>True</td>\n",
       "      <td>...</td>\n",
       "      <td>DAL</td>\n",
       "      <td>2</td>\n",
       "      <td>23</td>\n",
       "      <td>2419.0</td>\n",
       "      <td>0</td>\n",
       "      <td>LAL</td>\n",
       "      <td>1</td>\n",
       "      <td>1</td>\n",
       "      <td>13</td>\n",
       "      <td>2</td>\n",
       "    </tr>\n",
       "    <tr>\n",
       "      <th>3</th>\n",
       "      <td>5</td>\n",
       "      <td>0</td>\n",
       "      <td>2012-10-30</td>\n",
       "      <td>5</td>\n",
       "      <td>15</td>\n",
       "      <td>6</td>\n",
       "      <td>Paul</td>\n",
       "      <td>9</td>\n",
       "      <td>9</td>\n",
       "      <td>False</td>\n",
       "      <td>...</td>\n",
       "      <td>MIA</td>\n",
       "      <td>3</td>\n",
       "      <td>23</td>\n",
       "      <td>2434.0</td>\n",
       "      <td>2</td>\n",
       "      <td>BOS</td>\n",
       "      <td>4</td>\n",
       "      <td>2</td>\n",
       "      <td>5</td>\n",
       "      <td>0</td>\n",
       "    </tr>\n",
       "    <tr>\n",
       "      <th>4</th>\n",
       "      <td>4</td>\n",
       "      <td>1</td>\n",
       "      <td>2012-10-30</td>\n",
       "      <td>1</td>\n",
       "      <td>22</td>\n",
       "      <td>10</td>\n",
       "      <td>Dwyane</td>\n",
       "      <td>11</td>\n",
       "      <td>9</td>\n",
       "      <td>True</td>\n",
       "      <td>...</td>\n",
       "      <td>BOS</td>\n",
       "      <td>3</td>\n",
       "      <td>29</td>\n",
       "      <td>2107.0</td>\n",
       "      <td>2</td>\n",
       "      <td>MIA</td>\n",
       "      <td>0</td>\n",
       "      <td>0</td>\n",
       "      <td>3</td>\n",
       "      <td>4</td>\n",
       "    </tr>\n",
       "  </tbody>\n",
       "</table>\n",
       "<p>5 rows × 22 columns</p>\n",
       "</div>"
      ],
      "text/plain": [
       "   assists  blocks        date  defensive_rebounds  field_goal_attempts  \\\n",
       "0        3       0  2012-10-30                   9                   16   \n",
       "1        9       2  2012-10-30                  11                    7   \n",
       "2        6       3  2012-10-30                   9                   19   \n",
       "3        5       0  2012-10-30                   5                   15   \n",
       "4        4       1  2012-10-30                   1                   22   \n",
       "\n",
       "   field_goals first_name  free_throw_attempts  free_throws  is_home  \\\n",
       "0           10     LeBron                    5            4     True   \n",
       "1            3   Anderson                    3            3     True   \n",
       "2            8        Pau                    8            6     True   \n",
       "3            6       Paul                    9            9    False   \n",
       "4           10     Dwyane                   11            9     True   \n",
       "\n",
       "     ...     opponent  personal_fouls points  seconds_played  steals  team  \\\n",
       "0    ...          BOS               2     26          1732.0       2   MIA   \n",
       "1    ...          WAS               4      9          2242.0       0   CLE   \n",
       "2    ...          DAL               2     23          2419.0       0   LAL   \n",
       "3    ...          MIA               3     23          2434.0       2   BOS   \n",
       "4    ...          BOS               3     29          2107.0       2   MIA   \n",
       "\n",
       "   three_point_field_goal_attempts three_point_field_goals  total_rebounds  \\\n",
       "0                                4                       2              10   \n",
       "1                                0                       0              23   \n",
       "2                                1                       1              13   \n",
       "3                                4                       2               5   \n",
       "4                                0                       0               3   \n",
       "\n",
       "   turnovers  \n",
       "0          0  \n",
       "1          1  \n",
       "2          2  \n",
       "3          0  \n",
       "4          4  \n",
       "\n",
       "[5 rows x 22 columns]"
      ]
     },
     "execution_count": 74,
     "metadata": {},
     "output_type": "execute_result"
    }
   ],
   "source": [
    "box_scores.head()\n"
   ]
  },
  {
   "cell_type": "code",
   "execution_count": 75,
   "metadata": {},
   "outputs": [
    {
     "data": {
      "text/html": [
       "<div>\n",
       "<style>\n",
       "    .dataframe thead tr:only-child th {\n",
       "        text-align: right;\n",
       "    }\n",
       "\n",
       "    .dataframe thead th {\n",
       "        text-align: left;\n",
       "    }\n",
       "\n",
       "    .dataframe tbody tr th {\n",
       "        vertical-align: top;\n",
       "    }\n",
       "</style>\n",
       "<table border=\"1\" class=\"dataframe\">\n",
       "  <thead>\n",
       "    <tr style=\"text-align: right;\">\n",
       "      <th></th>\n",
       "      <th>home_team_name</th>\n",
       "      <th>home_team_score</th>\n",
       "      <th>start_time</th>\n",
       "      <th>visiting_team_name</th>\n",
       "      <th>visiting_team_score</th>\n",
       "    </tr>\n",
       "  </thead>\n",
       "  <tbody>\n",
       "    <tr>\n",
       "      <th>0</th>\n",
       "      <td>Cleveland Cavaliers</td>\n",
       "      <td>94.0</td>\n",
       "      <td>2012-10-30 23:00:00</td>\n",
       "      <td>Washington Wizards</td>\n",
       "      <td>84.0</td>\n",
       "    </tr>\n",
       "    <tr>\n",
       "      <th>1</th>\n",
       "      <td>Los Angeles Lakers</td>\n",
       "      <td>91.0</td>\n",
       "      <td>2012-10-30 23:30:00</td>\n",
       "      <td>Dallas Mavericks</td>\n",
       "      <td>99.0</td>\n",
       "    </tr>\n",
       "    <tr>\n",
       "      <th>2</th>\n",
       "      <td>Miami Heat</td>\n",
       "      <td>120.0</td>\n",
       "      <td>2012-10-31 00:00:00</td>\n",
       "      <td>Boston Celtics</td>\n",
       "      <td>107.0</td>\n",
       "    </tr>\n",
       "    <tr>\n",
       "      <th>3</th>\n",
       "      <td>Chicago Bulls</td>\n",
       "      <td>93.0</td>\n",
       "      <td>2012-10-31 23:00:00</td>\n",
       "      <td>Sacramento Kings</td>\n",
       "      <td>87.0</td>\n",
       "    </tr>\n",
       "    <tr>\n",
       "      <th>4</th>\n",
       "      <td>Detroit Pistons</td>\n",
       "      <td>96.0</td>\n",
       "      <td>2012-10-31 23:30:00</td>\n",
       "      <td>Houston Rockets</td>\n",
       "      <td>105.0</td>\n",
       "    </tr>\n",
       "  </tbody>\n",
       "</table>\n",
       "</div>"
      ],
      "text/plain": [
       "        home_team_name  home_team_score           start_time  \\\n",
       "0  Cleveland Cavaliers             94.0  2012-10-30 23:00:00   \n",
       "1   Los Angeles Lakers             91.0  2012-10-30 23:30:00   \n",
       "2           Miami Heat            120.0  2012-10-31 00:00:00   \n",
       "3        Chicago Bulls             93.0  2012-10-31 23:00:00   \n",
       "4      Detroit Pistons             96.0  2012-10-31 23:30:00   \n",
       "\n",
       "   visiting_team_name  visiting_team_score  \n",
       "0  Washington Wizards                 84.0  \n",
       "1    Dallas Mavericks                 99.0  \n",
       "2      Boston Celtics                107.0  \n",
       "3    Sacramento Kings                 87.0  \n",
       "4     Houston Rockets                105.0  "
      ]
     },
     "execution_count": 75,
     "metadata": {},
     "output_type": "execute_result"
    }
   ],
   "source": [
    "schedules.head()"
   ]
  },
  {
   "cell_type": "code",
   "execution_count": 76,
   "metadata": {},
   "outputs": [
    {
     "data": {
      "text/html": [
       "<div>\n",
       "<style>\n",
       "    .dataframe thead tr:only-child th {\n",
       "        text-align: right;\n",
       "    }\n",
       "\n",
       "    .dataframe thead th {\n",
       "        text-align: left;\n",
       "    }\n",
       "\n",
       "    .dataframe tbody tr th {\n",
       "        vertical-align: top;\n",
       "    }\n",
       "</style>\n",
       "<table border=\"1\" class=\"dataframe\">\n",
       "  <thead>\n",
       "    <tr style=\"text-align: right;\">\n",
       "      <th></th>\n",
       "      <th>age</th>\n",
       "      <th>assists</th>\n",
       "      <th>blocks</th>\n",
       "      <th>defensive_rebounds</th>\n",
       "      <th>field_goals_attempted</th>\n",
       "      <th>field_goals_made</th>\n",
       "      <th>first_name</th>\n",
       "      <th>free_throws_attempted</th>\n",
       "      <th>free_throws_made</th>\n",
       "      <th>games_played</th>\n",
       "      <th>...</th>\n",
       "      <th>points</th>\n",
       "      <th>position</th>\n",
       "      <th>steals</th>\n",
       "      <th>team</th>\n",
       "      <th>three_point_field_goals_attempted</th>\n",
       "      <th>three_point_field_goals_made</th>\n",
       "      <th>turnovers</th>\n",
       "      <th>two_point_field_goals_attempted</th>\n",
       "      <th>two_point_field_goals_made</th>\n",
       "      <th>year</th>\n",
       "    </tr>\n",
       "  </thead>\n",
       "  <tbody>\n",
       "    <tr>\n",
       "      <th>0</th>\n",
       "      <td>22</td>\n",
       "      <td>11</td>\n",
       "      <td>15</td>\n",
       "      <td>47</td>\n",
       "      <td>75</td>\n",
       "      <td>42</td>\n",
       "      <td>Quincy</td>\n",
       "      <td>38</td>\n",
       "      <td>31</td>\n",
       "      <td>29</td>\n",
       "      <td>...</td>\n",
       "      <td>116</td>\n",
       "      <td>PF</td>\n",
       "      <td>13</td>\n",
       "      <td>TOR</td>\n",
       "      <td>2</td>\n",
       "      <td>1</td>\n",
       "      <td>17</td>\n",
       "      <td>73</td>\n",
       "      <td>41</td>\n",
       "      <td>2012</td>\n",
       "    </tr>\n",
       "    <tr>\n",
       "      <th>1</th>\n",
       "      <td>26</td>\n",
       "      <td>36</td>\n",
       "      <td>27</td>\n",
       "      <td>128</td>\n",
       "      <td>168</td>\n",
       "      <td>72</td>\n",
       "      <td>Jeff</td>\n",
       "      <td>100</td>\n",
       "      <td>65</td>\n",
       "      <td>52</td>\n",
       "      <td>...</td>\n",
       "      <td>209</td>\n",
       "      <td>PF</td>\n",
       "      <td>18</td>\n",
       "      <td>CHA</td>\n",
       "      <td>2</td>\n",
       "      <td>0</td>\n",
       "      <td>32</td>\n",
       "      <td>166</td>\n",
       "      <td>72</td>\n",
       "      <td>2012</td>\n",
       "    </tr>\n",
       "    <tr>\n",
       "      <th>2</th>\n",
       "      <td>27</td>\n",
       "      <td>206</td>\n",
       "      <td>11</td>\n",
       "      <td>210</td>\n",
       "      <td>905</td>\n",
       "      <td>397</td>\n",
       "      <td>Arron</td>\n",
       "      <td>223</td>\n",
       "      <td>191</td>\n",
       "      <td>64</td>\n",
       "      <td>...</td>\n",
       "      <td>1057</td>\n",
       "      <td>SF</td>\n",
       "      <td>40</td>\n",
       "      <td>ORL</td>\n",
       "      <td>240</td>\n",
       "      <td>72</td>\n",
       "      <td>138</td>\n",
       "      <td>665</td>\n",
       "      <td>325</td>\n",
       "      <td>2012</td>\n",
       "    </tr>\n",
       "    <tr>\n",
       "      <th>3</th>\n",
       "      <td>26</td>\n",
       "      <td>1</td>\n",
       "      <td>0</td>\n",
       "      <td>1</td>\n",
       "      <td>4</td>\n",
       "      <td>2</td>\n",
       "      <td>Josh</td>\n",
       "      <td>0</td>\n",
       "      <td>0</td>\n",
       "      <td>3</td>\n",
       "      <td>...</td>\n",
       "      <td>5</td>\n",
       "      <td>PG</td>\n",
       "      <td>0</td>\n",
       "      <td>DAL</td>\n",
       "      <td>2</td>\n",
       "      <td>1</td>\n",
       "      <td>0</td>\n",
       "      <td>2</td>\n",
       "      <td>1</td>\n",
       "      <td>2012</td>\n",
       "    </tr>\n",
       "    <tr>\n",
       "      <th>4</th>\n",
       "      <td>27</td>\n",
       "      <td>192</td>\n",
       "      <td>91</td>\n",
       "      <td>495</td>\n",
       "      <td>1318</td>\n",
       "      <td>638</td>\n",
       "      <td>LaMarcus</td>\n",
       "      <td>348</td>\n",
       "      <td>282</td>\n",
       "      <td>74</td>\n",
       "      <td>...</td>\n",
       "      <td>1560</td>\n",
       "      <td>PF</td>\n",
       "      <td>62</td>\n",
       "      <td>POR</td>\n",
       "      <td>14</td>\n",
       "      <td>2</td>\n",
       "      <td>143</td>\n",
       "      <td>1304</td>\n",
       "      <td>636</td>\n",
       "      <td>2012</td>\n",
       "    </tr>\n",
       "  </tbody>\n",
       "</table>\n",
       "<p>5 rows × 25 columns</p>\n",
       "</div>"
      ],
      "text/plain": [
       "   age  assists  blocks  defensive_rebounds  field_goals_attempted  \\\n",
       "0   22       11      15                  47                     75   \n",
       "1   26       36      27                 128                    168   \n",
       "2   27      206      11                 210                    905   \n",
       "3   26        1       0                   1                      4   \n",
       "4   27      192      91                 495                   1318   \n",
       "\n",
       "   field_goals_made first_name  free_throws_attempted  free_throws_made  \\\n",
       "0                42     Quincy                     38                31   \n",
       "1                72       Jeff                    100                65   \n",
       "2               397      Arron                    223               191   \n",
       "3                 2       Josh                      0                 0   \n",
       "4               638   LaMarcus                    348               282   \n",
       "\n",
       "   games_played  ...   points position  steals  team  \\\n",
       "0            29  ...      116       PF      13   TOR   \n",
       "1            52  ...      209       PF      18   CHA   \n",
       "2            64  ...     1057       SF      40   ORL   \n",
       "3             3  ...        5       PG       0   DAL   \n",
       "4            74  ...     1560       PF      62   POR   \n",
       "\n",
       "   three_point_field_goals_attempted  three_point_field_goals_made turnovers  \\\n",
       "0                                  2                             1        17   \n",
       "1                                  2                             0        32   \n",
       "2                                240                            72       138   \n",
       "3                                  2                             1         0   \n",
       "4                                 14                             2       143   \n",
       "\n",
       "   two_point_field_goals_attempted two_point_field_goals_made  year  \n",
       "0                               73                         41  2012  \n",
       "1                              166                         72  2012  \n",
       "2                              665                        325  2012  \n",
       "3                                2                          1  2012  \n",
       "4                             1304                        636  2012  \n",
       "\n",
       "[5 rows x 25 columns]"
      ]
     },
     "execution_count": 76,
     "metadata": {},
     "output_type": "execute_result"
    }
   ],
   "source": [
    "player_stats.head()"
   ]
  },
  {
   "cell_type": "markdown",
   "metadata": {},
   "source": [
    "Examine each DataFrame and note in the below Markdown cell some initial observations. These can be some thoughts about the columns, the shape of the data, or the relationship that each DataFrame has with the others."
   ]
  },
  {
   "cell_type": "markdown",
   "metadata": {},
   "source": [
    "----\n",
    "\n",
    "**Box Scores:** The box scores shape is (138548, 22). It has stats on each player by first name such as defensive rebounds, field goal attempts, and blocks.\n",
    "\n",
    "**Schedules:** The schedules shape is (6569, 5). It lists when games were played (day and time), which teams were in the game, and what the score was.\n",
    "\n",
    "**Season Player Stats:** The season player stats shape is (3261, 25). It lists stats on things like player age, what team they are on, how many assists, blocks, rebounds, and more. \n",
    "\n",
    "----"
   ]
  },
  {
   "cell_type": "markdown",
   "metadata": {},
   "source": [
    "The most important task before us is to try to identify key features that might be predictive for our model. But what exactly would our model look like? Here, it's helpful to identify what our X and Y variables are. \n",
    "\n",
    "One analogy we can draw is to movies. If we want to build a box office forecasting model for opening weekend gross, then it's pretty clear that our Y variable is a number like `opening_weekend_box_office` (in dollars). Our X variables then might be things like `budget` (in dollars), `opening_number_of_theaters`, `holiday_weekend` (Boolean), and `sequel` (Boolean). Note that a qualitative variable like `director` might not immediately be useful for our model, as opposed to quantitative variables derived from `director` such as `average_director_lifetime_gross`. When we actually train our model, each observation in our train/test set is a single movie.\n",
    "\n",
    "In the Markdown cell below, identify the X and Y variables for a model that aims to predict whether a home team will win an NBA regular season basketball game. The list of X variables does not have to be exhaustive but try to think of at least 5. You can refer to the Box Scores DataFrame for inspiration. We will tackle this topic of feature generation in greater detail in the future, so don't worry too much about it right now.\n",
    "\n",
    "_Note: This is an important exercise because practical ML problems will require that you devote extensive thought to feature generation at the data exploration and processing step. In fact, proprietary features and data are often considered the \"secret sauce\" of most ML companies because open-source tools such as scikit-learn and Keras (combined with cheap AWS computing) have enabled anyone to perform sophisticated predictive analysis that was once considered extremely expensive and complex._"
   ]
  },
  {
   "cell_type": "markdown",
   "metadata": {},
   "source": [
    "----\n",
    "**X:** Three point field goals (int), total rebounds (int), free throws (int), field goals (int), assists (int), blocks (int)\n",
    "\n",
    "**Y:** Win (boolean)\n",
    "\n",
    "----"
   ]
  },
  {
   "cell_type": "markdown",
   "metadata": {},
   "source": [
    "After going through all of the data, it looks like the Schedules DataFrame has all of the information we need to determine which games occurred on which dates and which teams won, as well as their home/visitor affiliation. Let's ignore this for now. Similarly, although the Season Player Stats DataFrame will likely be useful to us in the future, because it's a table of aggregate statistics there's not much we can do in terms of exploration right now. Instead, let's dive into the Box Scores DataFrame."
   ]
  },
  {
   "cell_type": "code",
   "execution_count": 77,
   "metadata": {},
   "outputs": [
    {
     "data": {
      "text/plain": [
       "Index(['assists', 'blocks', 'date', 'defensive_rebounds',\n",
       "       'field_goal_attempts', 'field_goals', 'first_name',\n",
       "       'free_throw_attempts', 'free_throws', 'is_home', 'last_name',\n",
       "       'offensive_rebounds', 'opponent', 'personal_fouls', 'points',\n",
       "       'seconds_played', 'steals', 'team', 'three_point_field_goal_attempts',\n",
       "       'three_point_field_goals', 'total_rebounds', 'turnovers'],\n",
       "      dtype='object')"
      ]
     },
     "execution_count": 77,
     "metadata": {},
     "output_type": "execute_result"
    }
   ],
   "source": [
    "box_scores.columns"
   ]
  },
  {
   "cell_type": "markdown",
   "metadata": {},
   "source": [
    "Looking at the columns, we see that there are a number of key stats. However, these stats are only available on an individual game-by-game basis. For our feature generation step, we may need this information aggregated across multiple games (but not at the season level). For instance, if we had a feature called `player_field_goal_percentage_to_date`, we would need to calculate the field goal percentage for a single player such as LeBron James for all of the games up to a certain date in the season.\n",
    "\n",
    "If the Cavaliers are playing the Golden State Warriors in December, then it might be useful to calculate LeBron's field goal percentage for the season up to the date of the upcoming game. (We can also compare this to his previous season stats, which we can pull from the Season Player Stats DataFrame.)\n",
    "\n",
    "Let's go ahead and try to do that! First, create a new column in Box Scores called `field_goal_percentage`. While you're at it, also create a new column called `full_name` that consists of the `first_name` and `last_name` fields concatenated with a space. Finally, convert the `date` column from type `str` to type `pd.Timestamp`."
   ]
  },
  {
   "cell_type": "code",
   "execution_count": 80,
   "metadata": {},
   "outputs": [],
   "source": [
    "# YOUR CODE HERE\n",
    "# https://stackoverflow.com/questions/17134716/convert-dataframe-column-type-from-string-to-datetime\n",
    "box_scores[\"field_goal_percentage\"] = box_scores[\"field_goals\"] / box_scores[\"field_goal_attempts\"]\n",
    "box_scores[\"full_name\"] = box_scores[\"first_name\"] + \" \" + box_scores[\"last_name\"]\n",
    "box_scores[\"date\"] = pd.to_datetime(box_scores[\"date\"])"
   ]
  },
  {
   "cell_type": "markdown",
   "metadata": {},
   "source": [
    "Now, let's create a function called `get_player_FGP_to_date(df, player_full_name, date)`. In this function, create a pivot table on a date-filtered slice of your original data with `index` as `full_name` and `values` as the new `field_goal_percentage` column you created. Make sure that your function returns a float!"
   ]
  },
  {
   "cell_type": "code",
   "execution_count": 85,
   "metadata": {
    "collapsed": true
   },
   "outputs": [],
   "source": [
    "def get_player_FGP_to_date(df, player_full_name, date):\n",
    "    \"\"\"\n",
    "    player_full_name: str of format 'LeBron James'\n",
    "    date: str of format '2018-02-28' <== Cast this to pd.Timestamp using pd.to_datetime()\n",
    "    @return result: float between 0 and 1\n",
    "    \"\"\"\n",
    "    # YOUR CODE HERE\n",
    "    date = pd.to_datetime(date)\n",
    "    player_stats = df.loc[df[\"full_name\"] == player_full_name]\n",
    "    player_stats_date = player_stats.loc[player_stats[\"date\"] < date]\n",
    "    player_pivot = player_stats_date.pivot_table(values = \"field_goal_percentage\", index = \"full_name\")\n",
    "    return player_pivot.ix[player_full_name]"
   ]
  },
  {
   "cell_type": "markdown",
   "metadata": {},
   "source": [
    "_As a sanity check, the below cell should yield 0.55075._"
   ]
  },
  {
   "cell_type": "code",
   "execution_count": 86,
   "metadata": {},
   "outputs": [
    {
     "data": {
      "text/plain": [
       "field_goal_percentage    0.550751\n",
       "Name: LeBron James, dtype: float64"
      ]
     },
     "execution_count": 86,
     "metadata": {},
     "output_type": "execute_result"
    }
   ],
   "source": [
    "get_player_FGP_to_date(box_scores, 'LeBron James', '2014-12-25') "
   ]
  },
  {
   "cell_type": "markdown",
   "metadata": {},
   "source": [
    "Let's write another function `get_player_TPP_to_date(df, player_full_name, date)` that generates a similar pivot table but for `three_point_percentage`. As before, create this column and then write the function, ensuring that it returns a float."
   ]
  },
  {
   "cell_type": "code",
   "execution_count": 87,
   "metadata": {
    "collapsed": true
   },
   "outputs": [],
   "source": [
    "# YOUR CODE HERE\n",
    "box_scores[\"three_point_percentage\"] = box_scores[\"three_point_field_goals\"] / box_scores[\"three_point_field_goal_attempts\"]"
   ]
  },
  {
   "cell_type": "code",
   "execution_count": 88,
   "metadata": {
    "collapsed": true
   },
   "outputs": [],
   "source": [
    "def get_player_TPP_to_date(df, player_full_name, date):\n",
    "    \"\"\"\n",
    "    player_full_name: str of format 'LeBron James'\n",
    "    date: str of format '2018-02-28' <== Cast this to pd.Timestamp using pd.to_datetime()\n",
    "    @return result: float between 0 and 1\n",
    "    \"\"\"\n",
    "    # YOUR CODE HERE\n",
    "    date = pd.to_datetime(date)\n",
    "    player_stats = df.loc[df[\"full_name\"] == player_full_name]\n",
    "    player_stats_date = player_stats.loc[player_stats[\"date\"] < date]\n",
    "    player_pivot = player_stats_date.pivot_table(values = \"three_point_percentage\", index = \"full_name\")\n",
    "    return player_pivot.ix[player_full_name]"
   ]
  },
  {
   "cell_type": "markdown",
   "metadata": {},
   "source": [
    "_As a sanity check, the below cell should yield 0.33232._"
   ]
  },
  {
   "cell_type": "code",
   "execution_count": 89,
   "metadata": {},
   "outputs": [
    {
     "data": {
      "text/plain": [
       "three_point_percentage    0.332321\n",
       "Name: LeBron James, dtype: float64"
      ]
     },
     "execution_count": 89,
     "metadata": {},
     "output_type": "execute_result"
    }
   ],
   "source": [
    "get_player_TPP_to_date(box_scores, 'LeBron James', '2015-12-25') "
   ]
  },
  {
   "cell_type": "markdown",
   "metadata": {},
   "source": [
    "Before we dive fully into feature generation, take a moment to think about one of the trickiest problems that we've had to deal with. Time traveling!\n",
    "\n",
    "For example, if we're trying to predict the box office gross of Inception, and one of our X variables is `average_director_lifetime_gross`, we can't use movies directed by Christopher Nolan that came out after Inception. We have to date-filter our DataFrame to only include movies before the release date!\n",
    "\n",
    "Similarly, if we want to calculate a player's three-point percentage to date, we can't include box scores from games that haven't happened yet. \n",
    "\n",
    "When we perform feature generation for each observation (each historical game), we will need to use functions such as the ones above to calculate all of our derived X variables. As you might expect, this will require us to loop through our DataFrame of games using `iterrows` or `apply`. "
   ]
  },
  {
   "cell_type": "markdown",
   "metadata": {},
   "source": [
    "#### Step 3: Feature generation\n",
    "\n",
    "Tune in next week! Take some time to think about the features that you would want to generate!"
   ]
  },
  {
   "cell_type": "code",
   "execution_count": null,
   "metadata": {
    "collapsed": true
   },
   "outputs": [],
   "source": []
  },
  {
   "cell_type": "markdown",
   "metadata": {},
   "source": [
    "## Problem 5: \n",
    "### Created by: Joe\n",
    "### Undergraduate 2.5 points Graduate 2 points"
   ]
  },
  {
   "cell_type": "markdown",
   "metadata": {},
   "source": [
    "# Gambling strategies\n",
    "\n",
    "Gambling strategies.  Let's use Pandas to go gambling.  Last time we did some data cleaning, but we didn't really get to using our data.  This time we'll alter a little of our data processing, and then actually use our data."
   ]
  },
  {
   "cell_type": "code",
   "execution_count": null,
   "metadata": {
    "collapsed": true
   },
   "outputs": [],
   "source": [
    "# damn pandas\n",
    "import pandas as pd\n",
    "import numpy as np\n",
    "import datetime"
   ]
  },
  {
   "cell_type": "markdown",
   "metadata": {},
   "source": [
    "Reading in our data again:\n",
    "\n",
    "Easy removal of na_values using the na_values parameter:  Our bad values all have the string \"null\"."
   ]
  },
  {
   "cell_type": "code",
   "execution_count": null,
   "metadata": {
    "collapsed": true
   },
   "outputs": [],
   "source": [
    "# Read in our data with more help from the read_csv parameters\n",
    "df = pd.read_csv(\"AAPL.csv\",na_values = [\"null\"])\n",
    "df.dtypes"
   ]
  },
  {
   "cell_type": "markdown",
   "metadata": {},
   "source": [
    "We're only concerned with the Dates and Closing values, so get rid of the extra data:"
   ]
  },
  {
   "cell_type": "code",
   "execution_count": null,
   "metadata": {
    "collapsed": true
   },
   "outputs": [],
   "source": [
    "# remove the unwanted columns\n",
    "df = \n",
    "\n",
    "# what does our data look like\n",
    "df.head()"
   ]
  },
  {
   "cell_type": "markdown",
   "metadata": {},
   "source": [
    "We also want to load in the Tesla and Netflix data.  Read the Tesla and Netflix Data in to df2 and df3:"
   ]
  },
  {
   "cell_type": "code",
   "execution_count": null,
   "metadata": {
    "collapsed": true
   },
   "outputs": [],
   "source": [
    "# read in the tesla and netflix data, and pare down the columns\n",
    "df2 = \n",
    "df3 = \n",
    "\n",
    "# Pare down the unwanted columns\n",
    "df2 = \n",
    "df3 = "
   ]
  },
  {
   "cell_type": "markdown",
   "metadata": {},
   "source": [
    "After we load all of the datasets, merge them together keeping just the dates and the closing values.  Rename the closing values so that we can distinguish the columns (hint, see section notes from a few weeks ago):"
   ]
  },
  {
   "cell_type": "code",
   "execution_count": null,
   "metadata": {
    "collapsed": true
   },
   "outputs": [],
   "source": [
    "# merge the data together into one file, and change the column\n",
    "# names appropriately.\n",
    "df = \n",
    "df = \n",
    "\n",
    "# And change the column names to fit a reasonable mold\n",
    "df"
   ]
  },
  {
   "cell_type": "code",
   "execution_count": null,
   "metadata": {
    "collapsed": true
   },
   "outputs": [],
   "source": [
    "# The result of loading, paring down, and renaming columns should\n",
    "# look something like this:\n",
    "df.head()"
   ]
  },
  {
   "cell_type": "markdown",
   "metadata": {},
   "source": [
    "Previously, we converted our dates to numbers, but this week we'll convert dates to time objects so we can use time deltas on them.  What do our times look like?"
   ]
  },
  {
   "cell_type": "code",
   "execution_count": null,
   "metadata": {
    "collapsed": true
   },
   "outputs": [],
   "source": [
    "# Our \"Date\" looks like strings.\n",
    "df.loc[1:4,\"Date\"]"
   ]
  },
  {
   "cell_type": "markdown",
   "metadata": {},
   "source": [
    "Datetime objects will let us more easily calculate differences in dates (as well as do power date manipulations like select particular months, days of the week, times of day, et cetera), so we'll convert our first column into date time objects.  We previously learned how to use the apply command for Series and data frames.  Use the apply command to change the dates in our dataframe to datetime objects.  Save the resulting series over the existing Date column.\n",
    "\n",
    "The func required for your apply command should use the datetime strptime function.  See the documentation for more on how to use strptime: https://docs.python.org/2/library/datetime.html#strftime-strptime-behavior\n",
    "\n",
    "(If you have trouble with the strptime function, there is another method that uses a pandas library command which will let you infer date-times without knowing how strptime( ) works."
   ]
  },
  {
   "cell_type": "code",
   "execution_count": null,
   "metadata": {
    "collapsed": true
   },
   "outputs": [],
   "source": [
    "# convert your \"Date\" objects into datetime objects.\n",
    "df.loc[:,\"Date\"] = "
   ]
  },
  {
   "cell_type": "code",
   "execution_count": null,
   "metadata": {
    "collapsed": true
   },
   "outputs": [],
   "source": [
    "# This should read datetime64 for Date, and float for everything else.\n",
    "df.dtypes"
   ]
  },
  {
   "cell_type": "markdown",
   "metadata": {},
   "source": [
    "Now that we have datetimes instead of strings, we can do easier calculations on them.  Create a mask of all the dates that were within the 10 days prior to March 31st, 2017 and show the data:"
   ]
  },
  {
   "cell_type": "code",
   "execution_count": null,
   "metadata": {
    "collapsed": true
   },
   "outputs": [],
   "source": [
    "# Probably want to create a datetime object for March 31st 2017\n",
    "date = datetime.datetime.strptime(   )\n",
    "\n",
    "# create a logical column with the datetime object and a timedelta object\n",
    "mask = "
   ]
  },
  {
   "cell_type": "code",
   "execution_count": null,
   "metadata": {
    "collapsed": true,
    "scrolled": true
   },
   "outputs": [],
   "source": [
    "# This command should output closing values for our three\n",
    "# stocks from March 22nd to March 30th.\n",
    "df.loc[mask,:]"
   ]
  },
  {
   "cell_type": "markdown",
   "metadata": {},
   "source": [
    "We have a function which finds the 25th and 75th percentiles as we did last time."
   ]
  },
  {
   "cell_type": "code",
   "execution_count": null,
   "metadata": {
    "collapsed": true
   },
   "outputs": [],
   "source": [
    "# this function takes a date, an index of dates in the form of a series,\n",
    "# a data frame with close data, the number of days to reference, and quantiles.\n",
    "# it returns the quantiles for the stocks in the data frame over the given\n",
    "# interval.  Only three need to be defined.  The data-frame shouldn't include\n",
    "# the dates, just the closing prices.\n",
    "def percents( date_time , date_series , data_frame , look_back = 365 , quantiles = [25,75]):\n",
    "    \n",
    "    # turn the look back integer into a timedelta\n",
    "    look_back = datetime.timedelta(look_back)\n",
    "\n",
    "    # create a mask of acceptable dates\n",
    "    mask = (-look_back < date_series - date_time) & (date_series - date_time <= datetime.timedelta(0))\n",
    "    \n",
    "    # find the percentile on the data that fits the range.  Axis = 0 allows runs the\n",
    "    # function over columns instead of rows.\n",
    "    nums = np.percentile( data_frame[mask],q = quantiles,axis = 0)\n",
    "    \n",
    "    # return the percentile calculation for each column of the data-frame.\n",
    "    return nums\n"
   ]
  },
  {
   "cell_type": "markdown",
   "metadata": {},
   "source": [
    "Now write a function that adds the quantiles to your data-frame for each of the stocks in our portfolio.  We've done this before, but this time, you can't use a for loop to iterate over the rows of the data if you want full credit.  apply( ) and loc( ) are the name of the game here."
   ]
  },
  {
   "cell_type": "code",
   "execution_count": null,
   "metadata": {
    "collapsed": true
   },
   "outputs": [],
   "source": [
    "# Your function should take in a data frame, upper and lower quantiles,\n",
    "# and possibly the number of days to look back when calculating the\n",
    "# quantiles, and output a data frame with the quantiles added in successive\n",
    "# columns.  If column 0 is the dates, 1,2,3 are our stock closes, columns\n",
    "# 4,5,6 should be the quantiles for stocks 1,2,3.\n",
    "\n",
    "def add_percentiles(df, quantiles = [25,75], look_back = 365):\n",
    "    \n",
    "    data_frame = df.copy()\n",
    "    \n",
    "    # YOUR CODE HERE\n",
    "\n",
    "    return data_frame"
   ]
  },
  {
   "cell_type": "code",
   "execution_count": null,
   "metadata": {
    "collapsed": true
   },
   "outputs": [],
   "source": [
    "# how does our result look?  Should get something like this.\n",
    "df1 = add_percentiles(df)\n",
    "df1.head()"
   ]
  },
  {
   "cell_type": "markdown",
   "metadata": {},
   "source": [
    "Great, we have some data to play with.  We're going to assess a betting strategy wherein we start with 1000 dollars.  If a stock we are following reaches the 75th percentile of the previous year's data, we'll sell half of our holdings.  If it reaches the 25th percentile, we'll buy stock according to half the cash we have on hand."
   ]
  },
  {
   "cell_type": "code",
   "execution_count": null,
   "metadata": {
    "collapsed": true
   },
   "outputs": [],
   "source": [
    "# This function takes three stocks and applies our trading strategy\n",
    "# across the portfolio.  It assumes a 3% monetary inflation rate.\n",
    "# the return value is the value of the portfolio at each time \n",
    "# interval along the way.  The function assumes you have seven\n",
    "# columns in your data frame, and that the 0th is dates, 1-3\n",
    "# are stock names, and 4-6 are corresponding stock quantiles\n",
    "def values(process):\n",
    "    \n",
    "    # Assumed inflation rate\n",
    "    r = .03\n",
    "    buy = [\"neither\",\"neither\",\"neither\"]\n",
    "\n",
    "    then = process.iloc[0,0]\n",
    "\n",
    "    \n",
    "    portfolio = {\"cash\":1000,1:0,2:0,3:0}\n",
    "    values = [1000]\n",
    "\n",
    "    # values gives the rows of the data frame.\n",
    "    for row in process.values:\n",
    "        \n",
    "        # set the time\n",
    "        now = row[0]\n",
    "        \n",
    "        # grab the three stock close prices\n",
    "        one,two,three = row[1:4]\n",
    "        \n",
    "        # iterating over each pair of stocks:\n",
    "        for j in range(1,4):\n",
    "\n",
    "            # extract the current close,low/high for each stock in turn\n",
    "            close = row[j]\n",
    "            low,high = row[j+3]\n",
    "\n",
    "            # if the close is below the lower quantile, buy if we can buy\n",
    "            if close < low and buy[j-1] != \"bought\":\n",
    "\n",
    "                # find days passed\n",
    "                days = (now-then).days\n",
    "\n",
    "                # update the current\n",
    "                then = now\n",
    "\n",
    "                # update cash according to bank interest\n",
    "                cash = portfolio[\"cash\"] * np.exp(r*days/365)\n",
    "\n",
    "                # buy stock with half of cash\n",
    "                portfolio[j] += cash/2 / close\n",
    "\n",
    "                # update cash\n",
    "                portfolio[\"cash\"] = cash/2\n",
    "\n",
    "                buy[j-1] = \"bought\"\n",
    "\n",
    "            # sell if needed\n",
    "            elif close > high and buy[j-1] != \"sold\":\n",
    "\n",
    "                # find days passed\n",
    "                days = (now-then).days\n",
    "\n",
    "                # update the current\n",
    "                then = now\n",
    "\n",
    "                # update cash according to bank interest\n",
    "                cash = portfolio[\"cash\"] * np.exp(r*days/365)\n",
    "\n",
    "                # sell half of stock\n",
    "                portfolio[j] /= 2 \n",
    "\n",
    "                # update cash\n",
    "                portfolio[\"cash\"] += portfolio[j] * close\n",
    "\n",
    "                buy[j-1] = \"sold\"\n",
    "        \n",
    "        worth = portfolio[\"cash\"] + portfolio[1]*one + portfolio[2] * two + portfolio[3]*three\n",
    "        values.append(worth)\n",
    "        \n",
    "    return values "
   ]
  },
  {
   "cell_type": "code",
   "execution_count": null,
   "metadata": {
    "collapsed": true
   },
   "outputs": [],
   "source": [
    "# Simulate stock buys over a period\n",
    "value1 = values(df1)"
   ]
  },
  {
   "cell_type": "markdown",
   "metadata": {},
   "source": [
    "How much were we able to grow our money?"
   ]
  },
  {
   "cell_type": "code",
   "execution_count": null,
   "metadata": {
    "collapsed": true
   },
   "outputs": [],
   "source": [
    "# what was the last entry in each of the portfolio values.  Did we make any money? \n",
    "value1[-1]"
   ]
  },
  {
   "cell_type": "markdown",
   "metadata": {},
   "source": [
    "That's a reasonable growth rate, although admittedly, not as good as could have been done with these three stocks.\n",
    "\n",
    "What you need to do now is pick different quantiles to try in our trading strategy.  We default to 25 and 75 as the percentiles, but you could pick extremes like 1 and 99, 49 and 51, or something assymetric like 45 and 99.\n",
    "\n",
    "Each set of quantiles you generate should give a new set of historic quantiles.  Take your best three sets of values and plot all the different sets on one line graph with plotly:"
   ]
  },
  {
   "cell_type": "code",
   "execution_count": null,
   "metadata": {
    "collapsed": true
   },
   "outputs": [],
   "source": [
    "# Creating quantiles for our data with multiple different quantile settings\n",
    "df2 = add_percentiles(df,quantiles = )\n",
    "df3 = add_percentiles(df,quantiles = )\n",
    "\n",
    "df2.head()\n",
    "df3.head()\n",
    "\n",
    "value2 = values(df2)\n",
    "value3 = values(df3)"
   ]
  },
  {
   "cell_type": "markdown",
   "metadata": {
    "collapsed": true
   },
   "source": [
    "## Plotting"
   ]
  },
  {
   "cell_type": "markdown",
   "metadata": {},
   "source": [
    "Use the plotly library to generate visualizations for your exploraton.\n",
    "Generate a line graph with the data you've generated.  Use the plotly basic line.  Make sure to label your graph!\n",
    "\n",
    "(Reference for [plotly line-graphs](https://plot.ly/python/line-charts/#line-plot-modes).)"
   ]
  },
  {
   "cell_type": "code",
   "execution_count": null,
   "metadata": {
    "collapsed": true
   },
   "outputs": [],
   "source": [
    "# First plot the graph of the [25,75] quantile portfolio results.\n",
    "# You'll need to do a little work getting reasonable x axis values\n",
    "\n",
    "\n",
    "\n",
    "\n",
    "\n"
   ]
  },
  {
   "cell_type": "markdown",
   "metadata": {},
   "source": [
    "Great.  One scatter plot.  Now plot again, but plot three different sets of quantiles, and label each accordingly.  We want to be able to see how our choices performed."
   ]
  },
  {
   "cell_type": "code",
   "execution_count": null,
   "metadata": {
    "collapsed": true
   },
   "outputs": [],
   "source": [
    "# Like the above, but with three sets of data overlaid:\n",
    "\n"
   ]
  },
  {
   "cell_type": "markdown",
   "metadata": {},
   "source": [
    "Now that we've tested our algorithm on a few stocks of my choosing, do the same for 3 stocks of your choosing.  Repeat the analysis, and leave a blurb about what you find.  Is it possible to use this algorithm to make money on stocks that have mostly level value or maybe even lose value?\n",
    "\n",
    "Note, it's really easy to get stock data from yahoo finance.  I got the apple data from [here](https://finance.yahoo.com/quote/AAPL/history?p=AAPL).  For a different stock, enter the company symbol of your choice.  You want historical data, and once you set the time frame, click the download data button."
   ]
  },
  {
   "cell_type": "code",
   "execution_count": null,
   "metadata": {
    "collapsed": true
   },
   "outputs": [],
   "source": [
    "# Your stocks and analysis here:"
   ]
  }
 ],
 "metadata": {
  "anaconda-cloud": {},
  "kernelspec": {
   "display_name": "Python 3",
   "language": "python",
   "name": "python3"
  },
  "language_info": {
   "codemirror_mode": {
    "name": "ipython",
    "version": 3
   },
   "file_extension": ".py",
   "mimetype": "text/x-python",
   "name": "python",
   "nbconvert_exporter": "python",
   "pygments_lexer": "ipython3",
   "version": "3.6.1"
  }
 },
 "nbformat": 4,
 "nbformat_minor": 1
}
